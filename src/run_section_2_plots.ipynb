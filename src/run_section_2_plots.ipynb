{
 "cells": [
  {
   "cell_type": "code",
   "execution_count": 1,
   "id": "d6e068ad",
   "metadata": {},
   "outputs": [],
   "source": [
    "import warnings\n",
    "warnings.filterwarnings(\"ignore\") \n",
    "\n",
    "import numpy as np\n",
    "from IPython import display\n",
    "from imputation_utils import char_groupings, char_maps\n",
    "\n",
    "data = np.load('../data/raw_rank_trunk_chars.npz')\n",
    "percentile_rank_chars = data['rank_chars']\n",
    "regular_chars = data['raw_chars']\n",
    "chars = data['chars']\n",
    "dates = data['dates']\n",
    "return_panel = data['returns']\n",
    "permnos = data['permnos']\n",
    "rts = data['rfs']\n",
    "monthly_updates = data['monthly_updates']\n",
    "\n",
    "from plots_and_tables import section_2"
   ]
  },
  {
   "cell_type": "markdown",
   "id": "4af5e37b",
   "metadata": {},
   "source": [
    "# Section 2"
   ]
  },
  {
   "cell_type": "markdown",
   "id": "c37b1237-d217-476a-9530-3d10ce372180",
   "metadata": {},
   "source": [
    "### Table 1: Logistic Regressions Explaining Missingess\n",
    "This table shows the results of logistic regressions to predict the missingness of individual stock characteristics. We report the results for different sets of explanatory variables for characteristics missing at the beginning, in the middle and at the end. The values of the seven characteristics D2P, IdioVol, ME, R2_1, SPREAD, TURN and VAR are always observed and hence can be included in the regressions. We also include characteristic fixed effects (FE), an indictor variable if the last characteristic value was observed, and the length of a missingness if the last value was not observed. The area under the curve (AUC) measures the accuracy of the logistic regression. The regression is pooled over time, stocks, and characteristics. The model is estimated on the training data (1988-1998) and evaluated out-of-sample on the test data (1999-2020). We also include the z-scores of the regression coefficients in brackets. Stars indicate the statistical\n",
    "significance, where *** corresponds to 1% significance."
   ]
  },
  {
   "cell_type": "code",
   "execution_count": 2,
   "id": "4396e624",
   "metadata": {},
   "outputs": [
    {
     "data": {
      "application/vnd.jupyter.widget-view+json": {
       "model_id": "cd9f8e4c49c24c04a109e83b49170bd6",
       "version_major": 2,
       "version_minor": 0
      },
      "text/plain": [
       "  0%|          | 0/5 [00:00<?, ?it/s]"
      ]
     },
     "metadata": {},
     "output_type": "display_data"
    },
    {
     "name": "stdout",
     "output_type": "stream",
     "text": [
      "D2P & IdioVol & ME & R2_1 & SPREAD & TURN & VAR & FE included & Last Val Indicator & Missing Gap & agg train AOC & agg  test AOC\\\\\n",
      "-2.92*** & 7.67*** & -1.05*** & 0.27*** & -0.44*** & -0.49*** & -7.07*** &  F &  F &  F & 0.52 & 0.46\\\\\n",
      "{[-79.83]} & {[30.67]} & {[-23.85]} & {[9.14]} & {[-7.3]} & {[-14.86]} & {[-28.79]} &  &  &  &  & \\\\\n",
      "-1.28*** & 4.74*** & -0.3*** & 0.21*** & -0.08*** & -0.71*** & -4.32*** &  F &  F &  0.13 & 0.65 & 0.74\\\\\n",
      "{[-25.94]} & {[16.22]} & {[-5.6]} & {[6.09]} & {[-1.18]} & {[-18.34]} & {[-15.23]} &  &  & {[ 97.29]} &  & \\\\\n",
      " &  &  &  &  &  &  &  T &  F &  F & 0.75 & 0.74\\\\\n",
      " &  &  &  &  &  &  &  &  &  &  & \\\\\n",
      " &  &  &  &  &  &  &  T &  F &  0.01 & 0.73 & 0.74\\\\\n",
      " &  &  &  &  &  &  &  &  & {[ 5.85]} &  & \\\\\n",
      "0.4*** & 0.21*** & -0.43*** & 0.22*** & -0.61*** & -0.19*** & 0.13*** &  T &  F &  0.01 & 0.75 & 0.76\\\\\n",
      "{[6.06]} & {[0.59]} & {[-7.24]} & {[5.59]} & {[-7.28]} & {[-4.17]} & {[0.39]} &  &  & {[ 3.15]} &  & \\\\\n"
     ]
    },
    {
     "data": {
      "application/vnd.jupyter.widget-view+json": {
       "model_id": "c9aaab335e1f42a49889ae687c171092",
       "version_major": 2,
       "version_minor": 0
      },
      "text/plain": [
       "  0%|          | 0/6 [00:00<?, ?it/s]"
      ]
     },
     "metadata": {},
     "output_type": "display_data"
    },
    {
     "name": "stderr",
     "output_type": "stream",
     "text": [
      "/Users/sven/repos/stanford/research/missing_data_pub/missing_data_pubenv/lib/python3.11/site-packages/statsmodels/base/model.py:607: ConvergenceWarning: Maximum Likelihood optimization failed to converge. Check mle_retvals\n",
      "  warnings.warn(\"Maximum Likelihood optimization failed to \"\n",
      "/Users/sven/repos/stanford/research/missing_data_pub/missing_data_pubenv/lib/python3.11/site-packages/statsmodels/base/model.py:607: ConvergenceWarning: Maximum Likelihood optimization failed to converge. Check mle_retvals\n",
      "  warnings.warn(\"Maximum Likelihood optimization failed to \"\n",
      "/Users/sven/repos/stanford/research/missing_data_pub/missing_data_pubenv/lib/python3.11/site-packages/statsmodels/base/model.py:607: ConvergenceWarning: Maximum Likelihood optimization failed to converge. Check mle_retvals\n",
      "  warnings.warn(\"Maximum Likelihood optimization failed to \"\n",
      "/Users/sven/repos/stanford/research/missing_data_pub/missing_data_pubenv/lib/python3.11/site-packages/statsmodels/base/model.py:607: ConvergenceWarning: Maximum Likelihood optimization failed to converge. Check mle_retvals\n",
      "  warnings.warn(\"Maximum Likelihood optimization failed to \"\n"
     ]
    },
    {
     "name": "stdout",
     "output_type": "stream",
     "text": [
      "D2P & IdioVol & ME & R2_1 & SPREAD & TURN & VAR & FE included & Last Val Indicator & Missing Gap & agg train AOC & agg  test AOC\\\\\n",
      "-0.4*** & 0.25*** & -0.15*** & -0.04*** & 0.42*** & -0.11*** & -0.6*** &  F &  F &  F & 0.67 & 0.67\\\\\n",
      "{[-50.35]} & {[6.16]} & {[-13.41]} & {[-5.14]} & {[24.76]} & {[-12.31]} & {[-14.3]} &  &  &  &  & \\\\\n",
      " &  &  &  &  &  &  &  T &  F &  F & 0.82 & 0.81\\\\\n",
      " &  &  &  &  &  &  &  &  &  &  & \\\\\n",
      "-0.4*** & 0.25*** & -0.15*** & -0.04*** & 0.42*** & -0.11*** & -0.6*** &  F &  0.1 &  F & 0.75 & 0.76\\\\\n",
      "{[-50.3]} & {[6.15]} & {[-13.33]} & {[-5.12]} & {[24.73]} & {[-12.29]} & {[-14.3]} &  & {[ 3.93]} &  &  & \\\\\n",
      " &  &  &  &  &  &  &  T &  5.53 &  F & 0.9 & 0.9\\\\\n",
      " &  &  &  &  &  &  &  & {[ 163.54]} &  &  & \\\\\n",
      " &  &  &  &  &  &  &  T &  0.15 &  -6.01 & 0.91 & 0.9\\\\\n",
      " &  &  &  &  &  &  &  & {[ 20.93]} & {[ -50.44]} &  & \\\\\n",
      "-0.36*** & 2.55*** & -1.4*** & -0.17*** & -0.46*** & -0.48*** & -1.57*** &  T &  0.17 &  -6.27 & 0.95 & 0.94\\\\\n",
      "{[-5.58]} & {[5.79]} & {[-15.16]} & {[-3.2]} & {[-3.66]} & {[-7.72]} & {[-3.62]} &  & {[ 22.16]} & {[ -50.74]} &  & \\\\\n"
     ]
    },
    {
     "data": {
      "application/vnd.jupyter.widget-view+json": {
       "model_id": "fd6d6f78453f444fb6bdb48034d65885",
       "version_major": 2,
       "version_minor": 0
      },
      "text/plain": [
       "  0%|          | 0/45 [00:00<?, ?it/s]"
      ]
     },
     "metadata": {},
     "output_type": "display_data"
    },
    {
     "name": "stderr",
     "output_type": "stream",
     "text": [
      "/Users/sven/repos/stanford/research/missing_data_pub/missing_data_pubenv/lib/python3.11/site-packages/statsmodels/base/model.py:130: ValueWarning: unknown kwargs ['disp']\n",
      "  warnings.warn(msg, ValueWarning)\n",
      "/Users/sven/repos/stanford/research/missing_data_pub/missing_data_pubenv/lib/python3.11/site-packages/statsmodels/base/model.py:130: ValueWarning: unknown kwargs ['disp']\n",
      "  warnings.warn(msg, ValueWarning)\n",
      "/Users/sven/repos/stanford/research/missing_data_pub/missing_data_pubenv/lib/python3.11/site-packages/statsmodels/base/model.py:130: ValueWarning: unknown kwargs ['disp']\n",
      "  warnings.warn(msg, ValueWarning)\n"
     ]
    },
    {
     "name": "stdout",
     "output_type": "stream",
     "text": [
      "D2P & IdioVol & ME & R2_1 & SPREAD & TURN & VAR & FE included & Last Val Indicator & Missing Gap & agg train AOC & agg  test AOC\\\\\n",
      "-0.35*** & -0.22*** & -0.38*** & -0.01*** & 0.02*** & -0.15*** & 0.08*** &  F &  F &  F & 0.61 & 0.61\\\\\n",
      "{[-68.29]} & {[-8.33]} & {[-51.49]} & {[-2.47]} & {[2.07]} & {[-25.51]} & {[2.94]} &  &  &  &  & \\\\\n",
      " &  &  &  &  &  &  &  T &  F &  F & 0.83 & 0.8\\\\\n",
      " &  &  &  &  &  &  &  &  &  &  & \\\\\n",
      "-1.09*** & -0.71*** & -0.86*** & -0.01*** & 0.08*** & -0.61*** & 0.38*** &  T &  F &  F & 0.85 & 0.82\\\\\n",
      "{[-105.01]} & {[-12.75]} & {[-57.57]} & {[-1.45]} & {[3.83]} & {[-53.71]} & {[6.65]} &  &  &  &  & \\\\\n",
      "\\begin{tabular}{llllllllllll}\n",
      "\\toprule\n",
      "D2P & IdioVol & ME & R2_1 & SPREAD & TURN & VAR & FE included & Last Val Indicator & Missing Gap & agg train AOC & agg  test AOC \\\\\n",
      "\\midrule\n",
      "-2.92***  &  7.67***  &  -1.05***  &  0.27***  &  -0.44***  &  -0.49***  &  -7.07***  &   F  &   F  &   F  &  0.52  &  0.46 \\\\\n",
      "{[-79.83]}  &  {[30.67]}  &  {[-23.85]}  &  {[9.14]}  &  {[-7.3]}  &  {[-14.86]}  &  {[-28.79]}  &    &    &    &    &   \\\\\n",
      "-1.28***  &  4.74***  &  -0.3***  &  0.21***  &  -0.08***  &  -0.71***  &  -4.32***  &   F  &   F  &   0.13  &  0.65  &  0.74 \\\\\n",
      "{[-25.94]}  &  {[16.22]}  &  {[-5.6]}  &  {[6.09]}  &  {[-1.18]}  &  {[-18.34]}  &  {[-15.23]}  &    &    &  {[ 97.29]}  &    &   \\\\\n",
      "  &    &    &    &    &    &    &   T  &   F  &   F  &  0.75  &  0.74 \\\\\n",
      "  &    &    &    &    &    &    &    &    &    &    &   \\\\\n",
      "  &    &    &    &    &    &    &   T  &   F  &   0.01  &  0.73  &  0.74 \\\\\n",
      "  &    &    &    &    &    &    &    &    &  {[ 5.85]}  &    &   \\\\\n",
      "0.4***  &  0.21***  &  -0.43***  &  0.22***  &  -0.61***  &  -0.19***  &  0.13***  &   T  &   F  &   0.01  &  0.75  &  0.76 \\\\\n",
      "{[6.06]}  &  {[0.59]}  &  {[-7.24]}  &  {[5.59]}  &  {[-7.28]}  &  {[-4.17]}  &  {[0.39]}  &    &    &  {[ 3.15]}  &    &   \\\\\n",
      "-0.4***  &  0.25***  &  -0.15***  &  -0.04***  &  0.42***  &  -0.11***  &  -0.6***  &   F  &   F  &   F  &  0.67  &  0.67 \\\\\n",
      "{[-50.35]}  &  {[6.16]}  &  {[-13.41]}  &  {[-5.14]}  &  {[24.76]}  &  {[-12.31]}  &  {[-14.3]}  &    &    &    &    &   \\\\\n",
      "  &    &    &    &    &    &    &   T  &   F  &   F  &  0.82  &  0.81 \\\\\n",
      "  &    &    &    &    &    &    &    &    &    &    &   \\\\\n",
      "-0.4***  &  0.25***  &  -0.15***  &  -0.04***  &  0.42***  &  -0.11***  &  -0.6***  &   F  &   0.1  &   F  &  0.75  &  0.76 \\\\\n",
      "{[-50.3]}  &  {[6.15]}  &  {[-13.33]}  &  {[-5.12]}  &  {[24.73]}  &  {[-12.29]}  &  {[-14.3]}  &    &  {[ 3.93]}  &    &    &   \\\\\n",
      "  &    &    &    &    &    &    &   T  &   5.53  &   F  &  0.9  &  0.9 \\\\\n",
      "  &    &    &    &    &    &    &    &  {[ 163.54]}  &    &    &   \\\\\n",
      "  &    &    &    &    &    &    &   T  &   0.15  &   -6.01  &  0.91  &  0.9 \\\\\n",
      "  &    &    &    &    &    &    &    &  {[ 20.93]}  &  {[ -50.44]}  &    &   \\\\\n",
      "-0.36***  &  2.55***  &  -1.4***  &  -0.17***  &  -0.46***  &  -0.48***  &  -1.57***  &   T  &   0.17  &   -6.27  &  0.95  &  0.94 \\\\\n",
      "{[-5.58]}  &  {[5.79]}  &  {[-15.16]}  &  {[-3.2]}  &  {[-3.66]}  &  {[-7.72]}  &  {[-3.62]}  &    &  {[ 22.16]}  &  {[ -50.74]}  &    &   \\\\\n",
      "-0.35***  &  -0.22***  &  -0.38***  &  -0.01***  &  0.02***  &  -0.15***  &  0.08***  &   F  &   F  &   F  &  0.61  &  0.61 \\\\\n",
      "{[-68.29]}  &  {[-8.33]}  &  {[-51.49]}  &  {[-2.47]}  &  {[2.07]}  &  {[-25.51]}  &  {[2.94]}  &    &    &    &    &   \\\\\n",
      "  &    &    &    &    &    &    &   T  &   F  &   F  &  0.83  &  0.8 \\\\\n",
      "  &    &    &    &    &    &    &    &    &    &    &   \\\\\n",
      "-1.09***  &  -0.71***  &  -0.86***  &  -0.01***  &  0.08***  &  -0.61***  &  0.38***  &   T  &   F  &   F  &  0.85  &  0.82 \\\\\n",
      "{[-105.01]}  &  {[-12.75]}  &  {[-57.57]}  &  {[-1.45]}  &  {[3.83]}  &  {[-53.71]}  &  {[6.65]}  &    &    &    &    &   \\\\\n",
      "\\bottomrule\n",
      "\\end{tabular}\n",
      "\n"
     ]
    }
   ],
   "source": [
    "plot = section_2.MissingLogitRegressions()\n",
    "plot.setup(percentile_rank_chars, return_panel, dates, permnos, chars, char_groupings, \n",
    "           monthly_updates)\n",
    "plot.run()"
   ]
  },
  {
   "cell_type": "code",
   "execution_count": null,
   "id": "1439249c",
   "metadata": {},
   "outputs": [],
   "source": []
  }
 ],
 "metadata": {
  "kernelspec": {
   "display_name": "Python 3 (ipykernel)",
   "language": "python",
   "name": "python3"
  },
  "language_info": {
   "codemirror_mode": {
    "name": "ipython",
    "version": 3
   },
   "file_extension": ".py",
   "mimetype": "text/x-python",
   "name": "python",
   "nbconvert_exporter": "python",
   "pygments_lexer": "ipython3",
   "version": "3.11.4"
  }
 },
 "nbformat": 4,
 "nbformat_minor": 5
}
