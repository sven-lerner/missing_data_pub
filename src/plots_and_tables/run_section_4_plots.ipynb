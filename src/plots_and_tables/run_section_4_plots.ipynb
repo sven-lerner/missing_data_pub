{
 "cells": [
  {
   "cell_type": "code",
   "execution_count": 1,
   "id": "6663e974",
   "metadata": {},
   "outputs": [],
   "source": [
    "import os\n",
    "import numpy as np\n",
    "\n",
    "os.chdir('/home/svenl/repos/research/pelger/missing_data_pub/src/')\n",
    "\n",
    "data = np.load('../data/raw_rank_trunk_chars.npz')\n",
    "percentile_rank_chars = data['rank_chars']\n",
    "regular_chars = data['raw_chars']\n",
    "chars = data['chars']\n",
    "dates = data['dates']\n",
    "return_panel = data['returns']\n",
    "permnos = data['permnos']\n",
    "rts = data['rfs']\n",
    "monthly_updates = data['monthly_updates']"
   ]
  },
  {
   "cell_type": "code",
   "execution_count": 2,
   "id": "3a628920",
   "metadata": {},
   "outputs": [],
   "source": [
    "from plots_and_tables import section_4"
   ]
  },
  {
   "cell_type": "markdown",
   "id": "b3c5d970",
   "metadata": {},
   "source": [
    "# Section 4"
   ]
  },
  {
   "cell_type": "code",
   "execution_count": 3,
   "id": "c551f0f3",
   "metadata": {},
   "outputs": [
    {
     "data": {
      "application/vnd.jupyter.widget-view+json": {
       "model_id": "56f2eeb6806e4f46abe439c03fb0550b",
       "version_major": 2,
       "version_minor": 0
      },
      "text/plain": [
       "  0%|          | 0/60 [00:00<?, ?it/s]"
      ]
     },
     "metadata": {},
     "output_type": "display_data"
    },
    {
     "name": "stdout",
     "output_type": "stream",
     "text": [
      "saving to save_loc\n"
     ]
    },
    {
     "data": {
      "image/png": "[encoded data removed]",
      "text/plain": [
       "<Figure size 1080x360 with 1 Axes>"
      ]
     },
     "metadata": {
      "needs_background": "light"
     },
     "output_type": "display_data"
    }
   ],
   "source": [
    "plot = section_4.XS_Factor_EV()\n",
    "plot.setup(return_panel=return_panel, percentile_rank_chars=percentile_rank_chars)\n",
    "plot.run()"
   ]
  },
  {
   "cell_type": "code",
   "execution_count": null,
   "id": "236e9383",
   "metadata": {
    "scrolled": true
   },
   "outputs": [
    {
     "name": "stdout",
     "output_type": "stream",
     "text": [
      "allowing a mean False\n",
      "shinking lmbda False\n",
      "10 window size 548\n"
     ]
    },
    {
     "name": "stderr",
     "output_type": "stream",
     "text": [
      "[Parallel(n_jobs=30)]: Using backend LokyBackend with 30 concurrent workers.\n",
      "[Parallel(n_jobs=30)]: Done  14 out of  60 | elapsed:    3.6s remaining:   11.7s\n",
      "[Parallel(n_jobs=30)]: Done  27 out of  60 | elapsed:    4.1s remaining:    5.0s\n",
      "[Parallel(n_jobs=30)]: Done  40 out of  60 | elapsed:    4.5s remaining:    2.3s\n",
      "[Parallel(n_jobs=30)]: Done  53 out of  60 | elapsed:    5.0s remaining:    0.7s\n",
      "[Parallel(n_jobs=30)]: Done  60 out of  60 | elapsed:    5.2s finished\n"
     ]
    },
    {
     "data": {
      "application/vnd.jupyter.widget-view+json": {
       "model_id": "b8c9ed33968a4489bf32c15259a6942c",
       "version_major": 2,
       "version_minor": 0
      },
      "text/plain": [
       "  0%|          | 0/60 [00:00<?, ?it/s]"
      ]
     },
     "metadata": {},
     "output_type": "display_data"
    },
    {
     "name": "stdout",
     "output_type": "stream",
     "text": [
      "at iteration 0 resids rmse are  0.23008340760649015\n",
      "allowing a mean False\n",
      "shinking lmbda False\n",
      "10 window size 548\n"
     ]
    },
    {
     "name": "stderr",
     "output_type": "stream",
     "text": [
      "[Parallel(n_jobs=30)]: Using backend LokyBackend with 30 concurrent workers.\n",
      "[Parallel(n_jobs=30)]: Done  14 out of  60 | elapsed:    1.3s remaining:    4.4s\n",
      "[Parallel(n_jobs=30)]: Done  27 out of  60 | elapsed:    1.9s remaining:    2.3s\n",
      "[Parallel(n_jobs=30)]: Done  40 out of  60 | elapsed:    2.4s remaining:    1.2s\n",
      "[Parallel(n_jobs=30)]: Done  53 out of  60 | elapsed:    2.7s remaining:    0.4s\n",
      "[Parallel(n_jobs=30)]: Done  60 out of  60 | elapsed:    3.1s finished\n"
     ]
    },
    {
     "data": {
      "application/vnd.jupyter.widget-view+json": {
       "model_id": "3bb19b0f7db34b4580e1cbdf08e3134c",
       "version_major": 2,
       "version_minor": 0
      },
      "text/plain": [
       "  0%|          | 0/60 [00:00<?, ?it/s]"
      ]
     },
     "metadata": {},
     "output_type": "display_data"
    },
    {
     "name": "stdout",
     "output_type": "stream",
     "text": [
      "at iteration 0 resids rmse are  0.21104373968739332\n",
      "allowing a mean False\n",
      "shinking lmbda False\n",
      "10 window size 548\n"
     ]
    },
    {
     "name": "stderr",
     "output_type": "stream",
     "text": [
      "[Parallel(n_jobs=30)]: Using backend LokyBackend with 30 concurrent workers.\n",
      "[Parallel(n_jobs=30)]: Done  14 out of  60 | elapsed:    1.3s remaining:    4.3s\n",
      "[Parallel(n_jobs=30)]: Done  27 out of  60 | elapsed:    1.8s remaining:    2.1s\n",
      "[Parallel(n_jobs=30)]: Done  40 out of  60 | elapsed:    2.4s remaining:    1.2s\n",
      "[Parallel(n_jobs=30)]: Done  53 out of  60 | elapsed:    2.7s remaining:    0.4s\n",
      "[Parallel(n_jobs=30)]: Done  60 out of  60 | elapsed:    3.1s finished\n"
     ]
    },
    {
     "data": {
      "application/vnd.jupyter.widget-view+json": {
       "model_id": "bbfd00d23f20437090f5d8299d341d82",
       "version_major": 2,
       "version_minor": 0
      },
      "text/plain": [
       "  0%|          | 0/60 [00:00<?, ?it/s]"
      ]
     },
     "metadata": {},
     "output_type": "display_data"
    },
    {
     "name": "stdout",
     "output_type": "stream",
     "text": [
      "at iteration 0 resids rmse are  0.20010540684774167\n",
      "allowing a mean False\n",
      "shinking lmbda False\n",
      "10 window size 548\n"
     ]
    },
    {
     "name": "stderr",
     "output_type": "stream",
     "text": [
      "[Parallel(n_jobs=30)]: Using backend LokyBackend with 30 concurrent workers.\n",
      "[Parallel(n_jobs=30)]: Done  14 out of  60 | elapsed:    1.8s remaining:    5.9s\n",
      "[Parallel(n_jobs=30)]: Done  27 out of  60 | elapsed:    2.1s remaining:    2.6s\n",
      "[Parallel(n_jobs=30)]: Done  40 out of  60 | elapsed:    3.1s remaining:    1.5s\n",
      "[Parallel(n_jobs=30)]: Done  53 out of  60 | elapsed:    3.6s remaining:    0.5s\n",
      "[Parallel(n_jobs=30)]: Done  60 out of  60 | elapsed:    3.9s finished\n"
     ]
    },
    {
     "data": {
      "application/vnd.jupyter.widget-view+json": {
       "model_id": "4ba33defe3614e568f6d7f701b6359bb",
       "version_major": 2,
       "version_minor": 0
      },
      "text/plain": [
       "  0%|          | 0/60 [00:00<?, ?it/s]"
      ]
     },
     "metadata": {},
     "output_type": "display_data"
    },
    {
     "name": "stdout",
     "output_type": "stream",
     "text": [
      "at iteration 0 resids rmse are  0.1902874708414177\n",
      "allowing a mean False\n",
      "shinking lmbda False\n",
      "10 window size 548\n"
     ]
    },
    {
     "name": "stderr",
     "output_type": "stream",
     "text": [
      "[Parallel(n_jobs=30)]: Using backend LokyBackend with 30 concurrent workers.\n",
      "[Parallel(n_jobs=30)]: Done  14 out of  60 | elapsed:    1.9s remaining:    6.2s\n",
      "[Parallel(n_jobs=30)]: Done  27 out of  60 | elapsed:    2.3s remaining:    2.9s\n",
      "[Parallel(n_jobs=30)]: Done  40 out of  60 | elapsed:    3.1s remaining:    1.6s\n",
      "[Parallel(n_jobs=30)]: Done  53 out of  60 | elapsed:    3.6s remaining:    0.5s\n",
      "[Parallel(n_jobs=30)]: Done  60 out of  60 | elapsed:    4.0s finished\n"
     ]
    },
    {
     "data": {
      "application/vnd.jupyter.widget-view+json": {
       "model_id": "cbcf0fb76807448287b3e74b5275f533",
       "version_major": 2,
       "version_minor": 0
      },
      "text/plain": [
       "  0%|          | 0/60 [00:00<?, ?it/s]"
      ]
     },
     "metadata": {},
     "output_type": "display_data"
    },
    {
     "name": "stdout",
     "output_type": "stream",
     "text": [
      "at iteration 0 resids rmse are  0.18169425204344897\n",
      "allowing a mean False\n",
      "shinking lmbda False\n",
      "10 window size 548\n"
     ]
    },
    {
     "name": "stderr",
     "output_type": "stream",
     "text": [
      "[Parallel(n_jobs=30)]: Using backend LokyBackend with 30 concurrent workers.\n",
      "[Parallel(n_jobs=30)]: Done  14 out of  60 | elapsed:    1.9s remaining:    6.3s\n",
      "[Parallel(n_jobs=30)]: Done  27 out of  60 | elapsed:    2.4s remaining:    2.9s\n",
      "[Parallel(n_jobs=30)]: Done  40 out of  60 | elapsed:    3.0s remaining:    1.5s\n",
      "[Parallel(n_jobs=30)]: Done  53 out of  60 | elapsed:    3.5s remaining:    0.5s\n",
      "[Parallel(n_jobs=30)]: Done  60 out of  60 | elapsed:    4.0s finished\n"
     ]
    },
    {
     "data": {
      "application/vnd.jupyter.widget-view+json": {
       "model_id": "0c895bdad7c4463b9956703e784f2e63",
       "version_major": 2,
       "version_minor": 0
      },
      "text/plain": [
       "  0%|          | 0/60 [00:00<?, ?it/s]"
      ]
     },
     "metadata": {},
     "output_type": "display_data"
    },
    {
     "name": "stdout",
     "output_type": "stream",
     "text": [
      "at iteration 0 resids rmse are  0.17328642392326593\n",
      "allowing a mean False\n",
      "shinking lmbda False\n",
      "10 window size 548\n"
     ]
    },
    {
     "name": "stderr",
     "output_type": "stream",
     "text": [
      "[Parallel(n_jobs=30)]: Using backend LokyBackend with 30 concurrent workers.\n",
      "[Parallel(n_jobs=30)]: Done  14 out of  60 | elapsed:    2.0s remaining:    6.4s\n",
      "[Parallel(n_jobs=30)]: Done  27 out of  60 | elapsed:    2.3s remaining:    2.9s\n",
      "[Parallel(n_jobs=30)]: Done  40 out of  60 | elapsed:    3.2s remaining:    1.6s\n",
      "[Parallel(n_jobs=30)]: Done  53 out of  60 | elapsed:    3.6s remaining:    0.5s\n",
      "[Parallel(n_jobs=30)]: Done  60 out of  60 | elapsed:    4.2s finished\n"
     ]
    },
    {
     "data": {
      "application/vnd.jupyter.widget-view+json": {
       "model_id": "259b7157d3af4e3b84bca520e06eaddb",
       "version_major": 2,
       "version_minor": 0
      },
      "text/plain": [
       "  0%|          | 0/60 [00:00<?, ?it/s]"
      ]
     },
     "metadata": {},
     "output_type": "display_data"
    },
    {
     "name": "stdout",
     "output_type": "stream",
     "text": [
      "at iteration 0 resids rmse are  0.164981049391617\n",
      "allowing a mean False\n",
      "shinking lmbda False\n",
      "10 window size 548\n"
     ]
    },
    {
     "name": "stderr",
     "output_type": "stream",
     "text": [
      "[Parallel(n_jobs=30)]: Using backend LokyBackend with 30 concurrent workers.\n",
      "[Parallel(n_jobs=30)]: Done  14 out of  60 | elapsed:    2.0s remaining:    6.6s\n",
      "[Parallel(n_jobs=30)]: Done  27 out of  60 | elapsed:    2.6s remaining:    3.2s\n",
      "[Parallel(n_jobs=30)]: Done  40 out of  60 | elapsed:    3.3s remaining:    1.6s\n",
      "[Parallel(n_jobs=30)]: Done  53 out of  60 | elapsed:    3.8s remaining:    0.5s\n",
      "[Parallel(n_jobs=30)]: Done  60 out of  60 | elapsed:    4.3s finished\n"
     ]
    },
    {
     "data": {
      "application/vnd.jupyter.widget-view+json": {
       "model_id": "d7f9e0e119224a628f90f8f2fae97741",
       "version_major": 2,
       "version_minor": 0
      },
      "text/plain": [
       "  0%|          | 0/60 [00:00<?, ?it/s]"
      ]
     },
     "metadata": {},
     "output_type": "display_data"
    },
    {
     "name": "stdout",
     "output_type": "stream",
     "text": [
      "at iteration 0 resids rmse are  0.15738339045842356\n",
      "allowing a mean False\n",
      "shinking lmbda False\n",
      "10 window size 548\n"
     ]
    },
    {
     "name": "stderr",
     "output_type": "stream",
     "text": [
      "[Parallel(n_jobs=30)]: Using backend LokyBackend with 30 concurrent workers.\n",
      "[Parallel(n_jobs=30)]: Done  14 out of  60 | elapsed:    2.1s remaining:    6.8s\n",
      "[Parallel(n_jobs=30)]: Done  27 out of  60 | elapsed:    2.4s remaining:    2.9s\n",
      "[Parallel(n_jobs=30)]: Done  40 out of  60 | elapsed:    3.2s remaining:    1.6s\n",
      "[Parallel(n_jobs=30)]: Done  53 out of  60 | elapsed:    3.8s remaining:    0.5s\n",
      "[Parallel(n_jobs=30)]: Done  60 out of  60 | elapsed:    4.2s finished\n"
     ]
    },
    {
     "data": {
      "application/vnd.jupyter.widget-view+json": {
       "model_id": "ea979f63f3544a0f8a421a0cd9d957e4",
       "version_major": 2,
       "version_minor": 0
      },
      "text/plain": [
       "  0%|          | 0/60 [00:00<?, ?it/s]"
      ]
     },
     "metadata": {},
     "output_type": "display_data"
    },
    {
     "name": "stdout",
     "output_type": "stream",
     "text": [
      "at iteration 0 resids rmse are  0.14970834789017828\n",
      "allowing a mean False\n",
      "shinking lmbda False\n",
      "10 window size 548\n"
     ]
    },
    {
     "name": "stderr",
     "output_type": "stream",
     "text": [
      "[Parallel(n_jobs=30)]: Using backend LokyBackend with 30 concurrent workers.\n",
      "[Parallel(n_jobs=30)]: Done  14 out of  60 | elapsed:    1.9s remaining:    6.3s\n",
      "[Parallel(n_jobs=30)]: Done  27 out of  60 | elapsed:    2.4s remaining:    2.9s\n",
      "[Parallel(n_jobs=30)]: Done  40 out of  60 | elapsed:    3.4s remaining:    1.7s\n",
      "[Parallel(n_jobs=30)]: Done  53 out of  60 | elapsed:    3.8s remaining:    0.5s\n",
      "[Parallel(n_jobs=30)]: Done  60 out of  60 | elapsed:    4.3s finished\n"
     ]
    },
    {
     "data": {
      "application/vnd.jupyter.widget-view+json": {
       "model_id": "af645a4d30fc4d6ebb0b5a10605c8e8c",
       "version_major": 2,
       "version_minor": 0
      },
      "text/plain": [
       "  0%|          | 0/60 [00:00<?, ?it/s]"
      ]
     },
     "metadata": {},
     "output_type": "display_data"
    },
    {
     "name": "stdout",
     "output_type": "stream",
     "text": [
      "at iteration 0 resids rmse are  0.14235340314844172\n",
      "allowing a mean False\n",
      "shinking lmbda False\n",
      "10 window size 548\n"
     ]
    },
    {
     "name": "stderr",
     "output_type": "stream",
     "text": [
      "[Parallel(n_jobs=30)]: Using backend LokyBackend with 30 concurrent workers.\n",
      "[Parallel(n_jobs=30)]: Done  14 out of  60 | elapsed:    2.1s remaining:    6.7s\n",
      "[Parallel(n_jobs=30)]: Done  27 out of  60 | elapsed:    2.4s remaining:    2.9s\n",
      "[Parallel(n_jobs=30)]: Done  40 out of  60 | elapsed:    3.4s remaining:    1.7s\n",
      "[Parallel(n_jobs=30)]: Done  53 out of  60 | elapsed:    3.9s remaining:    0.5s\n",
      "[Parallel(n_jobs=30)]: Done  60 out of  60 | elapsed:    4.6s finished\n"
     ]
    },
    {
     "data": {
      "application/vnd.jupyter.widget-view+json": {
       "model_id": "832d2473b4f8448a90683914d210b59e",
       "version_major": 2,
       "version_minor": 0
      },
      "text/plain": [
       "  0%|          | 0/60 [00:00<?, ?it/s]"
      ]
     },
     "metadata": {},
     "output_type": "display_data"
    },
    {
     "name": "stdout",
     "output_type": "stream",
     "text": [
      "at iteration 0 resids rmse are  0.13496234541199695\n",
      "allowing a mean False\n",
      "shinking lmbda False\n",
      "10 window size 548\n"
     ]
    },
    {
     "name": "stderr",
     "output_type": "stream",
     "text": [
      "[Parallel(n_jobs=30)]: Using backend LokyBackend with 30 concurrent workers.\n",
      "[Parallel(n_jobs=30)]: Done  14 out of  60 | elapsed:    2.2s remaining:    7.3s\n",
      "[Parallel(n_jobs=30)]: Done  27 out of  60 | elapsed:    2.7s remaining:    3.3s\n",
      "[Parallel(n_jobs=30)]: Done  40 out of  60 | elapsed:    3.8s remaining:    1.9s\n",
      "[Parallel(n_jobs=30)]: Done  53 out of  60 | elapsed:    4.1s remaining:    0.5s\n",
      "[Parallel(n_jobs=30)]: Done  60 out of  60 | elapsed:    5.1s finished\n"
     ]
    },
    {
     "data": {
      "application/vnd.jupyter.widget-view+json": {
       "model_id": "8f63e418e7a540c0930ef65ffeecc8b1",
       "version_major": 2,
       "version_minor": 0
      },
      "text/plain": [
       "  0%|          | 0/60 [00:00<?, ?it/s]"
      ]
     },
     "metadata": {},
     "output_type": "display_data"
    },
    {
     "name": "stdout",
     "output_type": "stream",
     "text": [
      "at iteration 0 resids rmse are  0.12824809218069627\n",
      "allowing a mean False\n",
      "shinking lmbda False\n",
      "10 window size 548\n"
     ]
    },
    {
     "name": "stderr",
     "output_type": "stream",
     "text": [
      "[Parallel(n_jobs=30)]: Using backend LokyBackend with 30 concurrent workers.\n",
      "[Parallel(n_jobs=30)]: Done  14 out of  60 | elapsed:    2.3s remaining:    7.7s\n",
      "[Parallel(n_jobs=30)]: Done  27 out of  60 | elapsed:    2.8s remaining:    3.5s\n",
      "[Parallel(n_jobs=30)]: Done  40 out of  60 | elapsed:    3.8s remaining:    1.9s\n",
      "[Parallel(n_jobs=30)]: Done  53 out of  60 | elapsed:    4.3s remaining:    0.6s\n",
      "[Parallel(n_jobs=30)]: Done  60 out of  60 | elapsed:    5.2s finished\n"
     ]
    },
    {
     "data": {
      "application/vnd.jupyter.widget-view+json": {
       "model_id": "5161790f51764fb1bb11cd59bbb717ca",
       "version_major": 2,
       "version_minor": 0
      },
      "text/plain": [
       "  0%|          | 0/60 [00:00<?, ?it/s]"
      ]
     },
     "metadata": {},
     "output_type": "display_data"
    },
    {
     "name": "stdout",
     "output_type": "stream",
     "text": [
      "at iteration 0 resids rmse are  0.121895100383099\n",
      "allowing a mean False\n",
      "shinking lmbda False\n",
      "10 window size 548\n"
     ]
    },
    {
     "name": "stderr",
     "output_type": "stream",
     "text": [
      "[Parallel(n_jobs=30)]: Using backend LokyBackend with 30 concurrent workers.\n",
      "[Parallel(n_jobs=30)]: Done  14 out of  60 | elapsed:    2.4s remaining:    7.8s\n",
      "[Parallel(n_jobs=30)]: Done  27 out of  60 | elapsed:    2.7s remaining:    3.3s\n",
      "[Parallel(n_jobs=30)]: Done  40 out of  60 | elapsed:    3.8s remaining:    1.9s\n",
      "[Parallel(n_jobs=30)]: Done  53 out of  60 | elapsed:    4.4s remaining:    0.6s\n",
      "[Parallel(n_jobs=30)]: Done  60 out of  60 | elapsed:    4.8s finished\n"
     ]
    },
    {
     "data": {
      "application/vnd.jupyter.widget-view+json": {
       "model_id": "9001f41f9d53491aaa9763d1c3b94ce1",
       "version_major": 2,
       "version_minor": 0
      },
      "text/plain": [
       "  0%|          | 0/60 [00:00<?, ?it/s]"
      ]
     },
     "metadata": {},
     "output_type": "display_data"
    },
    {
     "name": "stdout",
     "output_type": "stream",
     "text": [
      "at iteration 0 resids rmse are  0.11574991398097273\n",
      "allowing a mean False\n",
      "shinking lmbda False\n",
      "10 window size 548\n"
     ]
    },
    {
     "name": "stderr",
     "output_type": "stream",
     "text": [
      "[Parallel(n_jobs=30)]: Using backend LokyBackend with 30 concurrent workers.\n",
      "[Parallel(n_jobs=30)]: Done  14 out of  60 | elapsed:    2.5s remaining:    8.1s\n",
      "[Parallel(n_jobs=30)]: Done  27 out of  60 | elapsed:    3.0s remaining:    3.7s\n",
      "[Parallel(n_jobs=30)]: Done  40 out of  60 | elapsed:    4.0s remaining:    2.0s\n",
      "[Parallel(n_jobs=30)]: Done  53 out of  60 | elapsed:    4.4s remaining:    0.6s\n",
      "[Parallel(n_jobs=30)]: Done  60 out of  60 | elapsed:    5.4s finished\n"
     ]
    },
    {
     "data": {
      "application/vnd.jupyter.widget-view+json": {
       "model_id": "ef5a62ac5f5b4c719a8fe6df1972ce8c",
       "version_major": 2,
       "version_minor": 0
      },
      "text/plain": [
       "  0%|          | 0/60 [00:00<?, ?it/s]"
      ]
     },
     "metadata": {},
     "output_type": "display_data"
    },
    {
     "name": "stdout",
     "output_type": "stream",
     "text": [
      "at iteration 0 resids rmse are  0.10968365994260403\n",
      "allowing a mean False\n",
      "shinking lmbda False\n",
      "10 window size 548\n"
     ]
    },
    {
     "name": "stderr",
     "output_type": "stream",
     "text": [
      "[Parallel(n_jobs=30)]: Using backend LokyBackend with 30 concurrent workers.\n",
      "[Parallel(n_jobs=30)]: Done  14 out of  60 | elapsed:    2.3s remaining:    7.5s\n",
      "[Parallel(n_jobs=30)]: Done  27 out of  60 | elapsed:    2.7s remaining:    3.3s\n",
      "[Parallel(n_jobs=30)]: Done  40 out of  60 | elapsed:    3.9s remaining:    2.0s\n",
      "[Parallel(n_jobs=30)]: Done  53 out of  60 | elapsed:    4.4s remaining:    0.6s\n",
      "[Parallel(n_jobs=30)]: Done  60 out of  60 | elapsed:    4.9s finished\n"
     ]
    },
    {
     "data": {
      "application/vnd.jupyter.widget-view+json": {
       "model_id": "d99cc46ab0b44063928c5caa2eed8af6",
       "version_major": 2,
       "version_minor": 0
      },
      "text/plain": [
       "  0%|          | 0/60 [00:00<?, ?it/s]"
      ]
     },
     "metadata": {},
     "output_type": "display_data"
    },
    {
     "name": "stdout",
     "output_type": "stream",
     "text": [
      "at iteration 0 resids rmse are  0.10380477048666073\n",
      "allowing a mean False\n",
      "shinking lmbda False\n",
      "10 window size 548\n"
     ]
    },
    {
     "name": "stderr",
     "output_type": "stream",
     "text": [
      "[Parallel(n_jobs=30)]: Using backend LokyBackend with 30 concurrent workers.\n",
      "[Parallel(n_jobs=30)]: Done  14 out of  60 | elapsed:    1.9s remaining:    6.2s\n",
      "[Parallel(n_jobs=30)]: Done  27 out of  60 | elapsed:    2.4s remaining:    2.9s\n",
      "[Parallel(n_jobs=30)]: Done  40 out of  60 | elapsed:    3.3s remaining:    1.6s\n",
      "[Parallel(n_jobs=30)]: Done  53 out of  60 | elapsed:    3.7s remaining:    0.5s\n",
      "[Parallel(n_jobs=30)]: Done  60 out of  60 | elapsed:    4.2s finished\n"
     ]
    },
    {
     "data": {
      "application/vnd.jupyter.widget-view+json": {
       "model_id": "a550204ead7745b3b66ef18bc76cda78",
       "version_major": 2,
       "version_minor": 0
      },
      "text/plain": [
       "  0%|          | 0/60 [00:00<?, ?it/s]"
      ]
     },
     "metadata": {},
     "output_type": "display_data"
    },
    {
     "name": "stdout",
     "output_type": "stream",
     "text": [
      "at iteration 0 resids rmse are  0.09790497057700541\n",
      "allowing a mean False\n",
      "shinking lmbda False\n",
      "10 window size 548\n"
     ]
    },
    {
     "name": "stderr",
     "output_type": "stream",
     "text": [
      "[Parallel(n_jobs=30)]: Using backend LokyBackend with 30 concurrent workers.\n",
      "[Parallel(n_jobs=30)]: Done  14 out of  60 | elapsed:    1.9s remaining:    6.3s\n",
      "[Parallel(n_jobs=30)]: Done  27 out of  60 | elapsed:    2.2s remaining:    2.7s\n",
      "[Parallel(n_jobs=30)]: Done  40 out of  60 | elapsed:    3.5s remaining:    1.7s\n",
      "[Parallel(n_jobs=30)]: Done  53 out of  60 | elapsed:    3.8s remaining:    0.5s\n",
      "[Parallel(n_jobs=30)]: Done  60 out of  60 | elapsed:    4.3s finished\n"
     ]
    },
    {
     "data": {
      "application/vnd.jupyter.widget-view+json": {
       "model_id": "5ad0e0275f9e42b097a3336247aa9fe3",
       "version_major": 2,
       "version_minor": 0
      },
      "text/plain": [
       "  0%|          | 0/60 [00:00<?, ?it/s]"
      ]
     },
     "metadata": {},
     "output_type": "display_data"
    },
    {
     "name": "stdout",
     "output_type": "stream",
     "text": [
      "at iteration 0 resids rmse are  0.09213806363126117\n",
      "allowing a mean False\n",
      "shinking lmbda False\n",
      "10 window size 548\n"
     ]
    },
    {
     "name": "stderr",
     "output_type": "stream",
     "text": [
      "[Parallel(n_jobs=30)]: Using backend LokyBackend with 30 concurrent workers.\n",
      "[Parallel(n_jobs=30)]: Done  14 out of  60 | elapsed:    1.8s remaining:    6.0s\n",
      "[Parallel(n_jobs=30)]: Done  27 out of  60 | elapsed:    2.0s remaining:    2.5s\n",
      "[Parallel(n_jobs=30)]: Done  40 out of  60 | elapsed:    3.3s remaining:    1.7s\n",
      "[Parallel(n_jobs=30)]: Done  53 out of  60 | elapsed:    3.6s remaining:    0.5s\n",
      "[Parallel(n_jobs=30)]: Done  60 out of  60 | elapsed:    3.7s finished\n"
     ]
    },
    {
     "data": {
      "application/vnd.jupyter.widget-view+json": {
       "model_id": "5b5b91877e5a4558b6f7e013d2f15942",
       "version_major": 2,
       "version_minor": 0
      },
      "text/plain": [
       "  0%|          | 0/60 [00:00<?, ?it/s]"
      ]
     },
     "metadata": {},
     "output_type": "display_data"
    },
    {
     "name": "stdout",
     "output_type": "stream",
     "text": [
      "at iteration 0 resids rmse are  0.08659358606485627\n",
      "allowing a mean False\n",
      "shinking lmbda False\n",
      "10 window size 548\n"
     ]
    },
    {
     "name": "stderr",
     "output_type": "stream",
     "text": [
      "[Parallel(n_jobs=30)]: Using backend LokyBackend with 30 concurrent workers.\n",
      "[Parallel(n_jobs=30)]: Done  14 out of  60 | elapsed:    1.9s remaining:    6.2s\n",
      "[Parallel(n_jobs=30)]: Done  27 out of  60 | elapsed:    2.0s remaining:    2.5s\n",
      "[Parallel(n_jobs=30)]: Done  40 out of  60 | elapsed:    3.5s remaining:    1.7s\n",
      "[Parallel(n_jobs=30)]: Done  53 out of  60 | elapsed:    3.6s remaining:    0.5s\n",
      "[Parallel(n_jobs=30)]: Done  60 out of  60 | elapsed:    3.8s finished\n"
     ]
    },
    {
     "data": {
      "application/vnd.jupyter.widget-view+json": {
       "model_id": "94540414bb6348f198aab05e6e479adb",
       "version_major": 2,
       "version_minor": 0
      },
      "text/plain": [
       "  0%|          | 0/60 [00:00<?, ?it/s]"
      ]
     },
     "metadata": {},
     "output_type": "display_data"
    },
    {
     "name": "stdout",
     "output_type": "stream",
     "text": [
      "at iteration 0 resids rmse are  0.08132944923371224\n",
      "allowing a mean False\n",
      "shinking lmbda False\n",
      "10 window size 548\n"
     ]
    },
    {
     "name": "stderr",
     "output_type": "stream",
     "text": [
      "[Parallel(n_jobs=30)]: Using backend LokyBackend with 30 concurrent workers.\n",
      "[Parallel(n_jobs=30)]: Done  14 out of  60 | elapsed:    1.9s remaining:    6.4s\n",
      "[Parallel(n_jobs=30)]: Done  27 out of  60 | elapsed:    2.2s remaining:    2.7s\n",
      "[Parallel(n_jobs=30)]: Done  40 out of  60 | elapsed:    3.6s remaining:    1.8s\n",
      "[Parallel(n_jobs=30)]: Done  53 out of  60 | elapsed:    3.8s remaining:    0.5s\n",
      "[Parallel(n_jobs=30)]: Done  60 out of  60 | elapsed:    3.9s finished\n"
     ]
    },
    {
     "data": {
      "application/vnd.jupyter.widget-view+json": {
       "model_id": "2ec71b02148e4961ba8465ec6109197f",
       "version_major": 2,
       "version_minor": 0
      },
      "text/plain": [
       "  0%|          | 0/60 [00:00<?, ?it/s]"
      ]
     },
     "metadata": {},
     "output_type": "display_data"
    },
    {
     "name": "stdout",
     "output_type": "stream",
     "text": [
      "at iteration 0 resids rmse are  0.07649711434070441\n",
      "allowing a mean False\n",
      "shinking lmbda False\n",
      "10 window size 548\n"
     ]
    },
    {
     "name": "stderr",
     "output_type": "stream",
     "text": [
      "[Parallel(n_jobs=30)]: Using backend LokyBackend with 30 concurrent workers.\n",
      "[Parallel(n_jobs=30)]: Done  14 out of  60 | elapsed:    2.0s remaining:    6.6s\n",
      "[Parallel(n_jobs=30)]: Done  27 out of  60 | elapsed:    2.3s remaining:    2.8s\n",
      "[Parallel(n_jobs=30)]: Done  40 out of  60 | elapsed:    3.7s remaining:    1.8s\n",
      "[Parallel(n_jobs=30)]: Done  53 out of  60 | elapsed:    3.9s remaining:    0.5s\n",
      "[Parallel(n_jobs=30)]: Done  60 out of  60 | elapsed:    4.1s finished\n"
     ]
    },
    {
     "data": {
      "application/vnd.jupyter.widget-view+json": {
       "model_id": "0bbb3c2fa64441cea09135e7e2422541",
       "version_major": 2,
       "version_minor": 0
      },
      "text/plain": [
       "  0%|          | 0/60 [00:00<?, ?it/s]"
      ]
     },
     "metadata": {},
     "output_type": "display_data"
    },
    {
     "name": "stdout",
     "output_type": "stream",
     "text": [
      "at iteration 0 resids rmse are  0.0713951349291608\n",
      "allowing a mean False\n",
      "shinking lmbda False\n",
      "10 window size 548\n"
     ]
    },
    {
     "name": "stderr",
     "output_type": "stream",
     "text": [
      "[Parallel(n_jobs=30)]: Using backend LokyBackend with 30 concurrent workers.\n",
      "[Parallel(n_jobs=30)]: Done  14 out of  60 | elapsed:    2.1s remaining:    6.8s\n",
      "[Parallel(n_jobs=30)]: Done  27 out of  60 | elapsed:    2.6s remaining:    3.1s\n",
      "[Parallel(n_jobs=30)]: Done  40 out of  60 | elapsed:    3.8s remaining:    1.9s\n",
      "[Parallel(n_jobs=30)]: Done  53 out of  60 | elapsed:    4.2s remaining:    0.6s\n",
      "[Parallel(n_jobs=30)]: Done  60 out of  60 | elapsed:    4.4s finished\n"
     ]
    },
    {
     "data": {
      "application/vnd.jupyter.widget-view+json": {
       "model_id": "392c0cefc46c40a986196a7e254b3aa7",
       "version_major": 2,
       "version_minor": 0
      },
      "text/plain": [
       "  0%|          | 0/60 [00:00<?, ?it/s]"
      ]
     },
     "metadata": {},
     "output_type": "display_data"
    },
    {
     "name": "stdout",
     "output_type": "stream",
     "text": [
      "at iteration 0 resids rmse are  0.06664251991363637\n",
      "allowing a mean False\n",
      "shinking lmbda False\n",
      "10 window size 548\n"
     ]
    },
    {
     "name": "stderr",
     "output_type": "stream",
     "text": [
      "[Parallel(n_jobs=30)]: Using backend LokyBackend with 30 concurrent workers.\n",
      "[Parallel(n_jobs=30)]: Done  14 out of  60 | elapsed:    2.1s remaining:    6.9s\n",
      "[Parallel(n_jobs=30)]: Done  27 out of  60 | elapsed:    2.3s remaining:    2.8s\n",
      "[Parallel(n_jobs=30)]: Done  40 out of  60 | elapsed:    3.9s remaining:    2.0s\n",
      "[Parallel(n_jobs=30)]: Done  53 out of  60 | elapsed:    4.1s remaining:    0.5s\n",
      "[Parallel(n_jobs=30)]: Done  60 out of  60 | elapsed:    4.3s finished\n"
     ]
    },
    {
     "data": {
      "application/vnd.jupyter.widget-view+json": {
       "model_id": "b92a7bf872da418da0231620a356c623",
       "version_major": 2,
       "version_minor": 0
      },
      "text/plain": [
       "  0%|          | 0/60 [00:00<?, ?it/s]"
      ]
     },
     "metadata": {},
     "output_type": "display_data"
    },
    {
     "name": "stdout",
     "output_type": "stream",
     "text": [
      "at iteration 0 resids rmse are  0.06188022077843634\n",
      "allowing a mean False\n",
      "shinking lmbda False\n",
      "10 window size 548\n"
     ]
    },
    {
     "name": "stderr",
     "output_type": "stream",
     "text": [
      "[Parallel(n_jobs=30)]: Using backend LokyBackend with 30 concurrent workers.\n",
      "[Parallel(n_jobs=30)]: Done  14 out of  60 | elapsed:    2.2s remaining:    7.2s\n",
      "[Parallel(n_jobs=30)]: Done  27 out of  60 | elapsed:    2.4s remaining:    2.9s\n",
      "[Parallel(n_jobs=30)]: Done  40 out of  60 | elapsed:    4.0s remaining:    2.0s\n",
      "[Parallel(n_jobs=30)]: Done  53 out of  60 | elapsed:    4.2s remaining:    0.6s\n",
      "[Parallel(n_jobs=30)]: Done  60 out of  60 | elapsed:    4.4s finished\n"
     ]
    },
    {
     "data": {
      "application/vnd.jupyter.widget-view+json": {
       "model_id": "42ac3e8bd1d34d1797eb81fc4c43a10a",
       "version_major": 2,
       "version_minor": 0
      },
      "text/plain": [
       "  0%|          | 0/60 [00:00<?, ?it/s]"
      ]
     },
     "metadata": {},
     "output_type": "display_data"
    },
    {
     "name": "stdout",
     "output_type": "stream",
     "text": [
      "at iteration 0 resids rmse are  0.0571972402999121\n",
      "allowing a mean False\n",
      "shinking lmbda False\n",
      "10 window size 548\n"
     ]
    },
    {
     "name": "stderr",
     "output_type": "stream",
     "text": [
      "[Parallel(n_jobs=30)]: Using backend LokyBackend with 30 concurrent workers.\n",
      "[Parallel(n_jobs=30)]: Done  14 out of  60 | elapsed:    2.2s remaining:    7.3s\n",
      "[Parallel(n_jobs=30)]: Done  27 out of  60 | elapsed:    2.4s remaining:    3.0s\n",
      "[Parallel(n_jobs=30)]: Done  40 out of  60 | elapsed:    4.1s remaining:    2.0s\n",
      "[Parallel(n_jobs=30)]: Done  53 out of  60 | elapsed:    4.3s remaining:    0.6s\n",
      "[Parallel(n_jobs=30)]: Done  60 out of  60 | elapsed:    4.6s finished\n"
     ]
    },
    {
     "data": {
      "application/vnd.jupyter.widget-view+json": {
       "model_id": "ef5319c52cf344bbb963403c777a893b",
       "version_major": 2,
       "version_minor": 0
      },
      "text/plain": [
       "  0%|          | 0/60 [00:00<?, ?it/s]"
      ]
     },
     "metadata": {},
     "output_type": "display_data"
    },
    {
     "name": "stdout",
     "output_type": "stream",
     "text": [
      "at iteration 0 resids rmse are  0.05297043321689593\n",
      "allowing a mean False\n",
      "shinking lmbda False\n",
      "10 window size 548\n"
     ]
    },
    {
     "name": "stderr",
     "output_type": "stream",
     "text": [
      "[Parallel(n_jobs=30)]: Using backend LokyBackend with 30 concurrent workers.\n",
      "[Parallel(n_jobs=30)]: Done  14 out of  60 | elapsed:    2.3s remaining:    7.5s\n",
      "[Parallel(n_jobs=30)]: Done  27 out of  60 | elapsed:    2.5s remaining:    3.1s\n",
      "[Parallel(n_jobs=30)]: Done  40 out of  60 | elapsed:    4.1s remaining:    2.1s\n",
      "[Parallel(n_jobs=30)]: Done  53 out of  60 | elapsed:    4.5s remaining:    0.6s\n",
      "[Parallel(n_jobs=30)]: Done  60 out of  60 | elapsed:    4.7s finished\n"
     ]
    },
    {
     "data": {
      "application/vnd.jupyter.widget-view+json": {
       "model_id": "bc88ed358e8647479573af67e4884c63",
       "version_major": 2,
       "version_minor": 0
      },
      "text/plain": [
       "  0%|          | 0/60 [00:00<?, ?it/s]"
      ]
     },
     "metadata": {},
     "output_type": "display_data"
    },
    {
     "name": "stdout",
     "output_type": "stream",
     "text": [
      "at iteration 0 resids rmse are  0.04845109786735943\n",
      "allowing a mean False\n",
      "shinking lmbda False\n",
      "10 window size 548\n"
     ]
    },
    {
     "name": "stderr",
     "output_type": "stream",
     "text": [
      "[Parallel(n_jobs=30)]: Using backend LokyBackend with 30 concurrent workers.\n",
      "[Parallel(n_jobs=30)]: Done  14 out of  60 | elapsed:    2.3s remaining:    7.6s\n",
      "[Parallel(n_jobs=30)]: Done  27 out of  60 | elapsed:    2.5s remaining:    3.1s\n",
      "[Parallel(n_jobs=30)]: Done  40 out of  60 | elapsed:    4.3s remaining:    2.1s\n",
      "[Parallel(n_jobs=30)]: Done  53 out of  60 | elapsed:    4.5s remaining:    0.6s\n",
      "[Parallel(n_jobs=30)]: Done  60 out of  60 | elapsed:    4.7s finished\n"
     ]
    },
    {
     "data": {
      "application/vnd.jupyter.widget-view+json": {
       "model_id": "d1082a9c17a94ac9be15d0e5152a1f0e",
       "version_major": 2,
       "version_minor": 0
      },
      "text/plain": [
       "  0%|          | 0/60 [00:00<?, ?it/s]"
      ]
     },
     "metadata": {},
     "output_type": "display_data"
    },
    {
     "name": "stdout",
     "output_type": "stream",
     "text": [
      "at iteration 0 resids rmse are  0.04411046307835796\n",
      "allowing a mean False\n",
      "shinking lmbda False\n",
      "10 window size 548\n"
     ]
    },
    {
     "name": "stderr",
     "output_type": "stream",
     "text": [
      "[Parallel(n_jobs=30)]: Using backend LokyBackend with 30 concurrent workers.\n",
      "[Parallel(n_jobs=30)]: Done  14 out of  60 | elapsed:    2.3s remaining:    7.7s\n",
      "[Parallel(n_jobs=30)]: Done  27 out of  60 | elapsed:    2.6s remaining:    3.2s\n",
      "[Parallel(n_jobs=30)]: Done  40 out of  60 | elapsed:    4.4s remaining:    2.2s\n",
      "[Parallel(n_jobs=30)]: Done  53 out of  60 | elapsed:    4.6s remaining:    0.6s\n",
      "[Parallel(n_jobs=30)]: Done  60 out of  60 | elapsed:    4.8s finished\n"
     ]
    },
    {
     "data": {
      "application/vnd.jupyter.widget-view+json": {
       "model_id": "92353916125548aa8ded81b2e452fed2",
       "version_major": 2,
       "version_minor": 0
      },
      "text/plain": [
       "  0%|          | 0/60 [00:00<?, ?it/s]"
      ]
     },
     "metadata": {},
     "output_type": "display_data"
    },
    {
     "name": "stdout",
     "output_type": "stream",
     "text": [
      "at iteration 0 resids rmse are  0.039310471255156416\n",
      "allowing a mean False\n",
      "shinking lmbda False\n",
      "10 window size 548\n"
     ]
    },
    {
     "name": "stderr",
     "output_type": "stream",
     "text": [
      "[Parallel(n_jobs=30)]: Using backend LokyBackend with 30 concurrent workers.\n",
      "[Parallel(n_jobs=30)]: Done  14 out of  60 | elapsed:    2.6s remaining:    8.4s\n",
      "[Parallel(n_jobs=30)]: Done  27 out of  60 | elapsed:    2.8s remaining:    3.5s\n",
      "[Parallel(n_jobs=30)]: Done  40 out of  60 | elapsed:    4.7s remaining:    2.3s\n",
      "[Parallel(n_jobs=30)]: Done  53 out of  60 | elapsed:    4.9s remaining:    0.6s\n",
      "[Parallel(n_jobs=30)]: Done  60 out of  60 | elapsed:    5.1s finished\n"
     ]
    },
    {
     "data": {
      "application/vnd.jupyter.widget-view+json": {
       "model_id": "141873d708714a408cefb2ea5d26395f",
       "version_major": 2,
       "version_minor": 0
      },
      "text/plain": [
       "  0%|          | 0/60 [00:00<?, ?it/s]"
      ]
     },
     "metadata": {},
     "output_type": "display_data"
    },
    {
     "name": "stdout",
     "output_type": "stream",
     "text": [
      "at iteration 0 resids rmse are  0.034997823261788304\n",
      "allowing a mean False\n",
      "shinking lmbda False\n",
      "10 window size 548\n"
     ]
    },
    {
     "name": "stderr",
     "output_type": "stream",
     "text": [
      "[Parallel(n_jobs=30)]: Using backend LokyBackend with 30 concurrent workers.\n",
      "[Parallel(n_jobs=30)]: Done  14 out of  60 | elapsed:    2.5s remaining:    8.2s\n",
      "[Parallel(n_jobs=30)]: Done  27 out of  60 | elapsed:    2.7s remaining:    3.3s\n",
      "[Parallel(n_jobs=30)]: Done  40 out of  60 | elapsed:    4.6s remaining:    2.3s\n",
      "[Parallel(n_jobs=30)]: Done  53 out of  60 | elapsed:    4.9s remaining:    0.6s\n",
      "[Parallel(n_jobs=30)]: Done  60 out of  60 | elapsed:    5.2s finished\n"
     ]
    },
    {
     "data": {
      "application/vnd.jupyter.widget-view+json": {
       "model_id": "0b960f9cd6fa4c02a276d2d299197109",
       "version_major": 2,
       "version_minor": 0
      },
      "text/plain": [
       "  0%|          | 0/60 [00:00<?, ?it/s]"
      ]
     },
     "metadata": {},
     "output_type": "display_data"
    },
    {
     "name": "stdout",
     "output_type": "stream",
     "text": [
      "at iteration 0 resids rmse are  0.03069694576388538\n",
      "allowing a mean False\n",
      "shinking lmbda False\n",
      "10 window size 548\n"
     ]
    },
    {
     "name": "stderr",
     "output_type": "stream",
     "text": [
      "[Parallel(n_jobs=30)]: Using backend LokyBackend with 30 concurrent workers.\n",
      "[Parallel(n_jobs=30)]: Done  14 out of  60 | elapsed:    2.6s remaining:    8.6s\n",
      "[Parallel(n_jobs=30)]: Done  27 out of  60 | elapsed:    2.9s remaining:    3.5s\n",
      "[Parallel(n_jobs=30)]: Done  40 out of  60 | elapsed:    4.8s remaining:    2.4s\n",
      "[Parallel(n_jobs=30)]: Done  53 out of  60 | elapsed:    5.1s remaining:    0.7s\n",
      "[Parallel(n_jobs=30)]: Done  60 out of  60 | elapsed:    5.3s finished\n"
     ]
    },
    {
     "data": {
      "application/vnd.jupyter.widget-view+json": {
       "model_id": "cc4da6bb3dc54c9b9acd76f599f910f0",
       "version_major": 2,
       "version_minor": 0
      },
      "text/plain": [
       "  0%|          | 0/60 [00:00<?, ?it/s]"
      ]
     },
     "metadata": {},
     "output_type": "display_data"
    },
    {
     "name": "stdout",
     "output_type": "stream",
     "text": [
      "at iteration 0 resids rmse are  0.026865746449795648\n",
      "allowing a mean False\n",
      "shinking lmbda False\n",
      "10 window size 548\n"
     ]
    },
    {
     "name": "stderr",
     "output_type": "stream",
     "text": [
      "[Parallel(n_jobs=30)]: Using backend LokyBackend with 30 concurrent workers.\n",
      "[Parallel(n_jobs=30)]: Done  14 out of  60 | elapsed:    2.6s remaining:    8.6s\n",
      "[Parallel(n_jobs=30)]: Done  27 out of  60 | elapsed:    2.8s remaining:    3.5s\n",
      "[Parallel(n_jobs=30)]: Done  40 out of  60 | elapsed:    4.9s remaining:    2.4s\n",
      "[Parallel(n_jobs=30)]: Done  53 out of  60 | elapsed:    5.5s remaining:    0.7s\n",
      "[Parallel(n_jobs=30)]: Done  60 out of  60 | elapsed:    5.7s finished\n"
     ]
    },
    {
     "data": {
      "application/vnd.jupyter.widget-view+json": {
       "model_id": "889b140f8e3045598eb99b2c843e2df8",
       "version_major": 2,
       "version_minor": 0
      },
      "text/plain": [
       "  0%|          | 0/60 [00:00<?, ?it/s]"
      ]
     },
     "metadata": {},
     "output_type": "display_data"
    },
    {
     "name": "stdout",
     "output_type": "stream",
     "text": [
      "at iteration 0 resids rmse are  0.022976013904885358\n",
      "allowing a mean False\n",
      "shinking lmbda False\n",
      "10 window size 548\n"
     ]
    },
    {
     "name": "stderr",
     "output_type": "stream",
     "text": [
      "[Parallel(n_jobs=30)]: Using backend LokyBackend with 30 concurrent workers.\n",
      "[Parallel(n_jobs=30)]: Done  14 out of  60 | elapsed:    2.7s remaining:    8.8s\n",
      "[Parallel(n_jobs=30)]: Done  27 out of  60 | elapsed:    2.9s remaining:    3.6s\n",
      "[Parallel(n_jobs=30)]: Done  40 out of  60 | elapsed:    5.0s remaining:    2.5s\n",
      "[Parallel(n_jobs=30)]: Done  53 out of  60 | elapsed:    5.2s remaining:    0.7s\n",
      "[Parallel(n_jobs=30)]: Done  60 out of  60 | elapsed:    5.5s finished\n"
     ]
    },
    {
     "data": {
      "application/vnd.jupyter.widget-view+json": {
       "model_id": "5435ec0d8f3c4ad794389145c658ec7c",
       "version_major": 2,
       "version_minor": 0
      },
      "text/plain": [
       "  0%|          | 0/60 [00:00<?, ?it/s]"
      ]
     },
     "metadata": {},
     "output_type": "display_data"
    },
    {
     "name": "stdout",
     "output_type": "stream",
     "text": [
      "at iteration 0 resids rmse are  0.01924153851856612\n",
      "allowing a mean False\n",
      "shinking lmbda False\n",
      "10 window size 548\n"
     ]
    },
    {
     "name": "stderr",
     "output_type": "stream",
     "text": [
      "[Parallel(n_jobs=30)]: Using backend LokyBackend with 30 concurrent workers.\n",
      "[Parallel(n_jobs=30)]: Done  14 out of  60 | elapsed:    2.8s remaining:    9.0s\n",
      "[Parallel(n_jobs=30)]: Done  27 out of  60 | elapsed:    3.1s remaining:    3.8s\n",
      "[Parallel(n_jobs=30)]: Done  40 out of  60 | elapsed:    5.1s remaining:    2.5s\n",
      "[Parallel(n_jobs=30)]: Done  53 out of  60 | elapsed:    5.4s remaining:    0.7s\n",
      "[Parallel(n_jobs=30)]: Done  60 out of  60 | elapsed:    5.7s finished\n"
     ]
    },
    {
     "data": {
      "application/vnd.jupyter.widget-view+json": {
       "model_id": "2de7ae5304ac4b39b99a270e35ea88c8",
       "version_major": 2,
       "version_minor": 0
      },
      "text/plain": [
       "  0%|          | 0/60 [00:00<?, ?it/s]"
      ]
     },
     "metadata": {},
     "output_type": "display_data"
    },
    {
     "name": "stdout",
     "output_type": "stream",
     "text": [
      "at iteration 0 resids rmse are  0.015868581467262076\n",
      "allowing a mean False\n",
      "shinking lmbda False\n",
      "10 window size 548\n"
     ]
    },
    {
     "name": "stderr",
     "output_type": "stream",
     "text": [
      "[Parallel(n_jobs=30)]: Using backend LokyBackend with 30 concurrent workers.\n",
      "[Parallel(n_jobs=30)]: Done  14 out of  60 | elapsed:    2.8s remaining:    9.4s\n",
      "[Parallel(n_jobs=30)]: Done  27 out of  60 | elapsed:    3.1s remaining:    3.8s\n",
      "[Parallel(n_jobs=30)]: Done  40 out of  60 | elapsed:    5.3s remaining:    2.6s\n",
      "[Parallel(n_jobs=30)]: Done  53 out of  60 | elapsed:    5.5s remaining:    0.7s\n",
      "[Parallel(n_jobs=30)]: Done  60 out of  60 | elapsed:    5.7s finished\n"
     ]
    },
    {
     "data": {
      "application/vnd.jupyter.widget-view+json": {
       "model_id": "e8647610055349d2843d645bdf2990a7",
       "version_major": 2,
       "version_minor": 0
      },
      "text/plain": [
       "  0%|          | 0/60 [00:00<?, ?it/s]"
      ]
     },
     "metadata": {},
     "output_type": "display_data"
    },
    {
     "name": "stdout",
     "output_type": "stream",
     "text": [
      "at iteration 0 resids rmse are  0.012665102778682493\n",
      "allowing a mean False\n",
      "shinking lmbda False\n",
      "10 window size 548\n"
     ]
    },
    {
     "name": "stderr",
     "output_type": "stream",
     "text": [
      "[Parallel(n_jobs=30)]: Using backend LokyBackend with 30 concurrent workers.\n",
      "[Parallel(n_jobs=30)]: Done  14 out of  60 | elapsed:    2.8s remaining:    9.4s\n",
      "[Parallel(n_jobs=30)]: Done  27 out of  60 | elapsed:    3.2s remaining:    3.9s\n",
      "[Parallel(n_jobs=30)]: Done  40 out of  60 | elapsed:    5.3s remaining:    2.6s\n",
      "[Parallel(n_jobs=30)]: Done  53 out of  60 | elapsed:    5.6s remaining:    0.7s\n",
      "[Parallel(n_jobs=30)]: Done  60 out of  60 | elapsed:    5.9s finished\n"
     ]
    },
    {
     "data": {
      "application/vnd.jupyter.widget-view+json": {
       "model_id": "1e9cbd36e7f94ebdb52c18132917da37",
       "version_major": 2,
       "version_minor": 0
      },
      "text/plain": [
       "  0%|          | 0/60 [00:00<?, ?it/s]"
      ]
     },
     "metadata": {},
     "output_type": "display_data"
    },
    {
     "name": "stdout",
     "output_type": "stream",
     "text": [
      "at iteration 0 resids rmse are  0.009766021842251994\n",
      "allowing a mean False\n",
      "shinking lmbda False\n",
      "10 window size 548\n"
     ]
    },
    {
     "name": "stderr",
     "output_type": "stream",
     "text": [
      "[Parallel(n_jobs=30)]: Using backend LokyBackend with 30 concurrent workers.\n",
      "[Parallel(n_jobs=30)]: Done  14 out of  60 | elapsed:    2.9s remaining:    9.6s\n",
      "[Parallel(n_jobs=30)]: Done  27 out of  60 | elapsed:    3.2s remaining:    3.9s\n",
      "[Parallel(n_jobs=30)]: Done  40 out of  60 | elapsed:    5.4s remaining:    2.7s\n",
      "[Parallel(n_jobs=30)]: Done  53 out of  60 | elapsed:    5.6s remaining:    0.7s\n",
      "[Parallel(n_jobs=30)]: Done  60 out of  60 | elapsed:    5.9s finished\n"
     ]
    },
    {
     "data": {
      "application/vnd.jupyter.widget-view+json": {
       "model_id": "9fb64cdfbb874695a1270f3314ab8433",
       "version_major": 2,
       "version_minor": 0
      },
      "text/plain": [
       "  0%|          | 0/60 [00:00<?, ?it/s]"
      ]
     },
     "metadata": {},
     "output_type": "display_data"
    },
    {
     "name": "stdout",
     "output_type": "stream",
     "text": [
      "at iteration 0 resids rmse are  0.0072520496275191035\n",
      "allowing a mean False\n",
      "shinking lmbda False\n",
      "10 window size 548\n"
     ]
    },
    {
     "name": "stderr",
     "output_type": "stream",
     "text": [
      "[Parallel(n_jobs=30)]: Using backend LokyBackend with 30 concurrent workers.\n",
      "[Parallel(n_jobs=30)]: Done  14 out of  60 | elapsed:    3.0s remaining:    9.8s\n",
      "[Parallel(n_jobs=30)]: Done  27 out of  60 | elapsed:    3.3s remaining:    4.1s\n",
      "[Parallel(n_jobs=30)]: Done  40 out of  60 | elapsed:    5.4s remaining:    2.7s\n",
      "[Parallel(n_jobs=30)]: Done  53 out of  60 | elapsed:    5.7s remaining:    0.8s\n",
      "[Parallel(n_jobs=30)]: Done  60 out of  60 | elapsed:    6.0s finished\n"
     ]
    },
    {
     "data": {
      "application/vnd.jupyter.widget-view+json": {
       "model_id": "32ac387dc3a846f2ae5fe4ac00f9ff41",
       "version_major": 2,
       "version_minor": 0
      },
      "text/plain": [
       "  0%|          | 0/60 [00:00<?, ?it/s]"
      ]
     },
     "metadata": {},
     "output_type": "display_data"
    },
    {
     "name": "stdout",
     "output_type": "stream",
     "text": [
      "at iteration 0 resids rmse are  0.005160375680790934\n"
     ]
    },
    {
     "data": {
      "image/png": "[encoded data removed]",
      "text/plain": [
       "<Figure size 540x360 with 1 Axes>"
      ]
     },
     "metadata": {
      "needs_background": "light"
     },
     "output_type": "display_data"
    },
    {
     "name": "stdout",
     "output_type": "stream",
     "text": [
      "saving to save_loc\n"
     ]
    },
    {
     "data": {
      "image/png": "[encoded data removed]",
      "text/plain": [
       "<Figure size 540x360 with 1 Axes>"
      ]
     },
     "metadata": {
      "needs_background": "light"
     },
     "output_type": "display_data"
    },
    {
     "name": "stdout",
     "output_type": "stream",
     "text": [
      "allowing a mean False\n",
      "shinking lmbda False\n",
      "10 window size 548\n"
     ]
    },
    {
     "name": "stderr",
     "output_type": "stream",
     "text": [
      "[Parallel(n_jobs=30)]: Using backend LokyBackend with 30 concurrent workers.\n",
      "[Parallel(n_jobs=30)]: Done  14 out of  60 | elapsed:    1.3s remaining:    4.2s\n",
      "[Parallel(n_jobs=30)]: Done  27 out of  60 | elapsed:    1.5s remaining:    1.8s\n",
      "[Parallel(n_jobs=30)]: Done  40 out of  60 | elapsed:    2.3s remaining:    1.2s\n",
      "[Parallel(n_jobs=30)]: Done  53 out of  60 | elapsed:    2.5s remaining:    0.3s\n",
      "[Parallel(n_jobs=30)]: Done  60 out of  60 | elapsed:    2.6s finished\n"
     ]
    },
    {
     "data": {
      "application/vnd.jupyter.widget-view+json": {
       "model_id": "f288720114994ea88ebd2f420c9da62e",
       "version_major": 2,
       "version_minor": 0
      },
      "text/plain": [
       "  0%|          | 0/60 [00:00<?, ?it/s]"
      ]
     },
     "metadata": {},
     "output_type": "display_data"
    },
    {
     "name": "stdout",
     "output_type": "stream",
     "text": [
      "at iteration 0 resids rmse are  0.2299962091424351\n",
      "allowing a mean False\n",
      "shinking lmbda False\n",
      "10 window size 548\n"
     ]
    },
    {
     "name": "stderr",
     "output_type": "stream",
     "text": [
      "[Parallel(n_jobs=30)]: Using backend LokyBackend with 30 concurrent workers.\n",
      "[Parallel(n_jobs=30)]: Done  14 out of  60 | elapsed:    1.3s remaining:    4.3s\n",
      "[Parallel(n_jobs=30)]: Done  27 out of  60 | elapsed:    1.6s remaining:    2.0s\n",
      "[Parallel(n_jobs=30)]: Done  40 out of  60 | elapsed:    2.3s remaining:    1.2s\n",
      "[Parallel(n_jobs=30)]: Done  53 out of  60 | elapsed:    2.5s remaining:    0.3s\n",
      "[Parallel(n_jobs=30)]: Done  60 out of  60 | elapsed:    2.7s finished\n"
     ]
    },
    {
     "data": {
      "application/vnd.jupyter.widget-view+json": {
       "model_id": "58307a9bc5624e2082f695913567f180",
       "version_major": 2,
       "version_minor": 0
      },
      "text/plain": [
       "  0%|          | 0/60 [00:00<?, ?it/s]"
      ]
     },
     "metadata": {},
     "output_type": "display_data"
    },
    {
     "name": "stdout",
     "output_type": "stream",
     "text": [
      "at iteration 0 resids rmse are  0.21089630270953932\n",
      "allowing a mean False\n",
      "shinking lmbda False\n",
      "10 window size 548\n"
     ]
    },
    {
     "name": "stderr",
     "output_type": "stream",
     "text": [
      "[Parallel(n_jobs=30)]: Using backend LokyBackend with 30 concurrent workers.\n",
      "[Parallel(n_jobs=30)]: Done  14 out of  60 | elapsed:    1.3s remaining:    4.2s\n",
      "[Parallel(n_jobs=30)]: Done  27 out of  60 | elapsed:    1.5s remaining:    1.8s\n",
      "[Parallel(n_jobs=30)]: Done  40 out of  60 | elapsed:    2.3s remaining:    1.2s\n",
      "[Parallel(n_jobs=30)]: Done  53 out of  60 | elapsed:    2.6s remaining:    0.3s\n",
      "[Parallel(n_jobs=30)]: Done  60 out of  60 | elapsed:    2.8s finished\n"
     ]
    },
    {
     "data": {
      "application/vnd.jupyter.widget-view+json": {
       "model_id": "9fe9d0765c3342feb105a0d75f2f77d5",
       "version_major": 2,
       "version_minor": 0
      },
      "text/plain": [
       "  0%|          | 0/60 [00:00<?, ?it/s]"
      ]
     },
     "metadata": {},
     "output_type": "display_data"
    },
    {
     "name": "stdout",
     "output_type": "stream",
     "text": [
      "at iteration 0 resids rmse are  0.19998625798607725\n",
      "allowing a mean False\n",
      "shinking lmbda False\n",
      "10 window size 548\n"
     ]
    },
    {
     "name": "stderr",
     "output_type": "stream",
     "text": [
      "[Parallel(n_jobs=30)]: Using backend LokyBackend with 30 concurrent workers.\n",
      "[Parallel(n_jobs=30)]: Done  14 out of  60 | elapsed:    1.3s remaining:    4.3s\n",
      "[Parallel(n_jobs=30)]: Done  27 out of  60 | elapsed:    1.7s remaining:    2.1s\n",
      "[Parallel(n_jobs=30)]: Done  40 out of  60 | elapsed:    2.4s remaining:    1.2s\n",
      "[Parallel(n_jobs=30)]: Done  53 out of  60 | elapsed:    2.6s remaining:    0.3s\n",
      "[Parallel(n_jobs=30)]: Done  60 out of  60 | elapsed:    3.0s finished\n"
     ]
    },
    {
     "data": {
      "application/vnd.jupyter.widget-view+json": {
       "model_id": "8099cc2495fe47d390d810d6b6a4b9a9",
       "version_major": 2,
       "version_minor": 0
      },
      "text/plain": [
       "  0%|          | 0/60 [00:00<?, ?it/s]"
      ]
     },
     "metadata": {},
     "output_type": "display_data"
    },
    {
     "name": "stdout",
     "output_type": "stream",
     "text": [
      "at iteration 0 resids rmse are  0.19018192302149006\n",
      "allowing a mean False\n",
      "shinking lmbda False\n",
      "10 window size 548\n"
     ]
    },
    {
     "name": "stderr",
     "output_type": "stream",
     "text": [
      "[Parallel(n_jobs=30)]: Using backend LokyBackend with 30 concurrent workers.\n",
      "[Parallel(n_jobs=30)]: Done  14 out of  60 | elapsed:    1.3s remaining:    4.3s\n",
      "[Parallel(n_jobs=30)]: Done  27 out of  60 | elapsed:    1.5s remaining:    1.9s\n",
      "[Parallel(n_jobs=30)]: Done  40 out of  60 | elapsed:    2.4s remaining:    1.2s\n",
      "[Parallel(n_jobs=30)]: Done  53 out of  60 | elapsed:    2.6s remaining:    0.3s\n",
      "[Parallel(n_jobs=30)]: Done  60 out of  60 | elapsed:    2.8s finished\n"
     ]
    },
    {
     "data": {
      "application/vnd.jupyter.widget-view+json": {
       "model_id": "b4422fb2444c423e86df2c9f6682a691",
       "version_major": 2,
       "version_minor": 0
      },
      "text/plain": [
       "  0%|          | 0/60 [00:00<?, ?it/s]"
      ]
     },
     "metadata": {},
     "output_type": "display_data"
    },
    {
     "name": "stdout",
     "output_type": "stream",
     "text": [
      "at iteration 0 resids rmse are  0.18159981753814933\n",
      "allowing a mean False\n",
      "shinking lmbda False\n",
      "10 window size 548\n"
     ]
    },
    {
     "name": "stderr",
     "output_type": "stream",
     "text": [
      "[Parallel(n_jobs=30)]: Using backend LokyBackend with 30 concurrent workers.\n",
      "[Parallel(n_jobs=30)]: Done  14 out of  60 | elapsed:    1.3s remaining:    4.4s\n",
      "[Parallel(n_jobs=30)]: Done  27 out of  60 | elapsed:    1.5s remaining:    1.8s\n",
      "[Parallel(n_jobs=30)]: Done  40 out of  60 | elapsed:    2.5s remaining:    1.2s\n",
      "[Parallel(n_jobs=30)]: Done  53 out of  60 | elapsed:    2.7s remaining:    0.4s\n",
      "[Parallel(n_jobs=30)]: Done  60 out of  60 | elapsed:    2.9s finished\n"
     ]
    },
    {
     "data": {
      "application/vnd.jupyter.widget-view+json": {
       "model_id": "566540c412f742b8b80d757b2ed5062e",
       "version_major": 2,
       "version_minor": 0
      },
      "text/plain": [
       "  0%|          | 0/60 [00:00<?, ?it/s]"
      ]
     },
     "metadata": {},
     "output_type": "display_data"
    },
    {
     "name": "stdout",
     "output_type": "stream",
     "text": [
      "at iteration 0 resids rmse are  0.17321632322498887\n",
      "allowing a mean False\n",
      "shinking lmbda False\n",
      "10 window size 548\n"
     ]
    },
    {
     "name": "stderr",
     "output_type": "stream",
     "text": [
      "[Parallel(n_jobs=30)]: Using backend LokyBackend with 30 concurrent workers.\n",
      "[Parallel(n_jobs=30)]: Done  14 out of  60 | elapsed:    1.4s remaining:    4.5s\n",
      "[Parallel(n_jobs=30)]: Done  27 out of  60 | elapsed:    1.5s remaining:    1.9s\n",
      "[Parallel(n_jobs=30)]: Done  40 out of  60 | elapsed:    2.5s remaining:    1.3s\n",
      "[Parallel(n_jobs=30)]: Done  53 out of  60 | elapsed:    2.7s remaining:    0.4s\n",
      "[Parallel(n_jobs=30)]: Done  60 out of  60 | elapsed:    2.9s finished\n"
     ]
    },
    {
     "data": {
      "application/vnd.jupyter.widget-view+json": {
       "model_id": "62768f1476d04a9a87b568140c43d45c",
       "version_major": 2,
       "version_minor": 0
      },
      "text/plain": [
       "  0%|          | 0/60 [00:00<?, ?it/s]"
      ]
     },
     "metadata": {},
     "output_type": "display_data"
    },
    {
     "name": "stdout",
     "output_type": "stream",
     "text": [
      "at iteration 0 resids rmse are  0.16493574823988674\n",
      "allowing a mean False\n",
      "shinking lmbda False\n",
      "10 window size 548\n"
     ]
    },
    {
     "name": "stderr",
     "output_type": "stream",
     "text": [
      "[Parallel(n_jobs=30)]: Using backend LokyBackend with 30 concurrent workers.\n",
      "[Parallel(n_jobs=30)]: Done  14 out of  60 | elapsed:    1.4s remaining:    4.6s\n",
      "[Parallel(n_jobs=30)]: Done  27 out of  60 | elapsed:    1.5s remaining:    1.9s\n",
      "[Parallel(n_jobs=30)]: Done  40 out of  60 | elapsed:    2.6s remaining:    1.3s\n",
      "[Parallel(n_jobs=30)]: Done  53 out of  60 | elapsed:    2.7s remaining:    0.4s\n",
      "[Parallel(n_jobs=30)]: Done  60 out of  60 | elapsed:    2.8s finished\n"
     ]
    },
    {
     "data": {
      "application/vnd.jupyter.widget-view+json": {
       "model_id": "0c0bda7b6d924131a70d0be00601805a",
       "version_major": 2,
       "version_minor": 0
      },
      "text/plain": [
       "  0%|          | 0/60 [00:00<?, ?it/s]"
      ]
     },
     "metadata": {},
     "output_type": "display_data"
    },
    {
     "name": "stdout",
     "output_type": "stream",
     "text": [
      "at iteration 0 resids rmse are  0.15738319971199402\n",
      "allowing a mean False\n",
      "shinking lmbda False\n",
      "10 window size 548\n"
     ]
    },
    {
     "name": "stderr",
     "output_type": "stream",
     "text": [
      "[Parallel(n_jobs=30)]: Using backend LokyBackend with 30 concurrent workers.\n",
      "[Parallel(n_jobs=30)]: Done  14 out of  60 | elapsed:    1.4s remaining:    4.7s\n",
      "[Parallel(n_jobs=30)]: Done  27 out of  60 | elapsed:    1.7s remaining:    2.1s\n",
      "[Parallel(n_jobs=30)]: Done  40 out of  60 | elapsed:    2.7s remaining:    1.3s\n",
      "[Parallel(n_jobs=30)]: Done  53 out of  60 | elapsed:    2.8s remaining:    0.4s\n",
      "[Parallel(n_jobs=30)]: Done  60 out of  60 | elapsed:    3.2s finished\n"
     ]
    },
    {
     "data": {
      "application/vnd.jupyter.widget-view+json": {
       "model_id": "c2fa25e54be541d2a2b62be6a80ae091",
       "version_major": 2,
       "version_minor": 0
      },
      "text/plain": [
       "  0%|          | 0/60 [00:00<?, ?it/s]"
      ]
     },
     "metadata": {},
     "output_type": "display_data"
    },
    {
     "name": "stdout",
     "output_type": "stream",
     "text": [
      "at iteration 0 resids rmse are  0.14971206633531858\n",
      "allowing a mean False\n",
      "shinking lmbda False\n",
      "10 window size 548\n"
     ]
    },
    {
     "name": "stderr",
     "output_type": "stream",
     "text": [
      "[Parallel(n_jobs=30)]: Using backend LokyBackend with 30 concurrent workers.\n",
      "[Parallel(n_jobs=30)]: Done  14 out of  60 | elapsed:    1.5s remaining:    4.9s\n",
      "[Parallel(n_jobs=30)]: Done  27 out of  60 | elapsed:    1.9s remaining:    2.3s\n",
      "[Parallel(n_jobs=30)]: Done  40 out of  60 | elapsed:    2.8s remaining:    1.4s\n",
      "[Parallel(n_jobs=30)]: Done  53 out of  60 | elapsed:    3.0s remaining:    0.4s\n",
      "[Parallel(n_jobs=30)]: Done  60 out of  60 | elapsed:    3.3s finished\n"
     ]
    },
    {
     "data": {
      "application/vnd.jupyter.widget-view+json": {
       "model_id": "53c4ccb2bf9a40ee9b9b1e1e22064b9f",
       "version_major": 2,
       "version_minor": 0
      },
      "text/plain": [
       "  0%|          | 0/60 [00:00<?, ?it/s]"
      ]
     },
     "metadata": {},
     "output_type": "display_data"
    },
    {
     "name": "stdout",
     "output_type": "stream",
     "text": [
      "at iteration 0 resids rmse are  0.14236244533511558\n",
      "allowing a mean False\n",
      "shinking lmbda False\n",
      "10 window size 548\n"
     ]
    },
    {
     "name": "stderr",
     "output_type": "stream",
     "text": [
      "[Parallel(n_jobs=30)]: Using backend LokyBackend with 30 concurrent workers.\n",
      "[Parallel(n_jobs=30)]: Done  14 out of  60 | elapsed:    1.6s remaining:    5.1s\n",
      "[Parallel(n_jobs=30)]: Done  27 out of  60 | elapsed:    1.7s remaining:    2.0s\n",
      "[Parallel(n_jobs=30)]: Done  40 out of  60 | elapsed:    2.8s remaining:    1.4s\n",
      "[Parallel(n_jobs=30)]: Done  53 out of  60 | elapsed:    3.0s remaining:    0.4s\n",
      "[Parallel(n_jobs=30)]: Done  60 out of  60 | elapsed:    3.2s finished\n"
     ]
    },
    {
     "data": {
      "application/vnd.jupyter.widget-view+json": {
       "model_id": "b6ba02ef3cec4bd395de9321f3dfda32",
       "version_major": 2,
       "version_minor": 0
      },
      "text/plain": [
       "  0%|          | 0/60 [00:00<?, ?it/s]"
      ]
     },
     "metadata": {},
     "output_type": "display_data"
    },
    {
     "name": "stdout",
     "output_type": "stream",
     "text": [
      "at iteration 0 resids rmse are  0.1349813928303661\n",
      "allowing a mean False\n",
      "shinking lmbda False\n",
      "10 window size 548\n"
     ]
    },
    {
     "name": "stderr",
     "output_type": "stream",
     "text": [
      "[Parallel(n_jobs=30)]: Using backend LokyBackend with 30 concurrent workers.\n",
      "[Parallel(n_jobs=30)]: Done  14 out of  60 | elapsed:    1.6s remaining:    5.2s\n",
      "[Parallel(n_jobs=30)]: Done  27 out of  60 | elapsed:    1.8s remaining:    2.2s\n",
      "[Parallel(n_jobs=30)]: Done  40 out of  60 | elapsed:    2.8s remaining:    1.4s\n",
      "[Parallel(n_jobs=30)]: Done  53 out of  60 | elapsed:    3.1s remaining:    0.4s\n",
      "[Parallel(n_jobs=30)]: Done  60 out of  60 | elapsed:    3.4s finished\n"
     ]
    },
    {
     "data": {
      "application/vnd.jupyter.widget-view+json": {
       "model_id": "c69af3ceedbd476ab9ad61d80817d7b9",
       "version_major": 2,
       "version_minor": 0
      },
      "text/plain": [
       "  0%|          | 0/60 [00:00<?, ?it/s]"
      ]
     },
     "metadata": {},
     "output_type": "display_data"
    },
    {
     "name": "stdout",
     "output_type": "stream",
     "text": [
      "at iteration 0 resids rmse are  0.12827698661193893\n",
      "allowing a mean False\n",
      "shinking lmbda False\n",
      "10 window size 548\n"
     ]
    },
    {
     "name": "stderr",
     "output_type": "stream",
     "text": [
      "[Parallel(n_jobs=30)]: Using backend LokyBackend with 30 concurrent workers.\n",
      "[Parallel(n_jobs=30)]: Done  14 out of  60 | elapsed:    1.6s remaining:    5.3s\n",
      "[Parallel(n_jobs=30)]: Done  27 out of  60 | elapsed:    2.0s remaining:    2.4s\n",
      "[Parallel(n_jobs=30)]: Done  40 out of  60 | elapsed:    3.0s remaining:    1.5s\n",
      "[Parallel(n_jobs=30)]: Done  53 out of  60 | elapsed:    3.2s remaining:    0.4s\n",
      "[Parallel(n_jobs=30)]: Done  60 out of  60 | elapsed:    3.6s finished\n"
     ]
    },
    {
     "data": {
      "application/vnd.jupyter.widget-view+json": {
       "model_id": "d4f9fef950e3441c84b8469b2ac3d200",
       "version_major": 2,
       "version_minor": 0
      },
      "text/plain": [
       "  0%|          | 0/60 [00:00<?, ?it/s]"
      ]
     },
     "metadata": {},
     "output_type": "display_data"
    }
   ],
   "source": [
    "for data_source in ['MAR', 'prob_block', 'logit']:\n",
    "    for reg in [0, 1e-4, 1e-3, 1e-2]:\n",
    "        plot = section_4.Optimal_Num_Factors()\n",
    "        plot.setup(percentile_rank_chars=percentile_rank_chars, return_panel=return_panel, chars=chars, \n",
    "                   tag=data_source, factor_nums=range(2, 41, 1), reg=reg, eval_weight=True,\n",
    "                  recalc_data=True)\n",
    "        plot.run()"
   ]
  },
  {
   "cell_type": "code",
   "execution_count": null,
   "id": "6491e7a8",
   "metadata": {
    "scrolled": true
   },
   "outputs": [],
   "source": [
    "for data_source in ['MAR', 'prob_block', 'logit']:\n",
    "    plot = section_4.Optimal_Reg()\n",
    "    plot.setup(percentile_rank_chars=percentile_rank_chars, return_panel=return_panel, chars=chars, \n",
    "               tag=data_source, num_factors=20, regs=[0, 0.0001, 0.0005, 0.001, 0.005, 0.01,\n",
    "                                                      0.05, 0.1, 0.5, 1]\n",
    "               ,recalc_data=True)\n",
    "    plot.run()"
   ]
  },
  {
   "cell_type": "code",
   "execution_count": null,
   "id": "b2a2276c",
   "metadata": {},
   "outputs": [],
   "source": [
    "plot = section_4.GenCorr()\n",
    "plot.setup(percentile_rank_chars, return_panel, dates)\n",
    "plot.run()"
   ]
  },
  {
   "cell_type": "code",
   "execution_count": null,
   "id": "85a7ef8c",
   "metadata": {},
   "outputs": [],
   "source": [
    "char_groupings  = [('A2ME', \"Q\"),\n",
    "                   ('AC', 'Q'),\n",
    "('AT', 'Q'),\n",
    "('ATO', 'Q'),\n",
    "('B2M', 'QM'),\n",
    "('BETA_d', 'M'),\n",
    "('BETA_m', 'M'),\n",
    "('C2A', 'Q'),\n",
    "('CF2B', 'Q'),\n",
    "('CF2P', 'QM'),\n",
    "('CTO', 'Q'),\n",
    "('D2A', 'Q'),\n",
    "('D2P', 'M'),\n",
    "('DPI2A', 'Q'),\n",
    "('E2P', 'QM'),\n",
    "('FC2Y', 'QY'),\n",
    "('IdioVol', 'M'),\n",
    "('INV', 'Q'),\n",
    "('LEV', 'Q'),\n",
    "('ME', 'M'),\n",
    "('TURN', 'M'),\n",
    "('NI', 'Q'),\n",
    "('NOA', 'Q'),\n",
    "('OA', 'Q'),\n",
    "('OL', 'Q'),\n",
    "('OP', 'Q'),\n",
    "('PCM', 'Q'),\n",
    "('PM', 'Q'),\n",
    "('PROF', 'QY'),\n",
    "('Q', 'QM'),\n",
    "('R2_1', 'M'),\n",
    "('R12_2', 'M'),\n",
    "('R12_7', 'M'),\n",
    "('R36_13', 'M'),\n",
    "('R60_13', 'M'),\n",
    "('HIGH52', 'M'),\n",
    "('RVAR', 'M'),\n",
    "('RNA', 'Q'),\n",
    "('ROA', 'Q'),\n",
    "('ROE', 'Q'),\n",
    "('S2P', 'QM'),\n",
    "('SGA2S', 'Q'),\n",
    "('SPREAD', 'M'),\n",
    "('SUV', 'M'),\n",
    "('VAR', 'M')]\n",
    "char_map = {x[0]:x[1] for x in char_groupings}"
   ]
  },
  {
   "cell_type": "code",
   "execution_count": null,
   "id": "96e0e027",
   "metadata": {},
   "outputs": [],
   "source": [
    "plot = section_4.FactorViz()\n",
    "plot.setup(percentile_rank_chars, return_panel, char_map, chars)\n",
    "plot.run()\n"
   ]
  },
  {
   "cell_type": "code",
   "execution_count": null,
   "id": "e3169106",
   "metadata": {},
   "outputs": [],
   "source": []
  }
 ],
 "metadata": {
  "kernelspec": {
   "display_name": "Python-Sven-Base",
   "language": "python",
   "name": "base"
  },
  "language_info": {
   "codemirror_mode": {
    "name": "ipython",
    "version": 3
   },
   "file_extension": ".py",
   "mimetype": "text/x-python",
   "name": "python",
   "nbconvert_exporter": "python",
   "pygments_lexer": "ipython3",
   "version": "3.10.12"
  }
 },
 "nbformat": 4,
 "nbformat_minor": 5
}
