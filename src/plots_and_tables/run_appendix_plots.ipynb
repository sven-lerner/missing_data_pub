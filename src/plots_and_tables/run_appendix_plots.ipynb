{
 "cells": [
  {
   "cell_type": "code",
   "execution_count": null,
   "id": "6663e974",
   "metadata": {},
   "outputs": [],
   "source": [
    "import os\n",
    "import numpy as np\n",
    "\n",
    "os.chdir('/home/svenl/repos/research/pelger/missing_data_pub/src/')\n",
    "\n",
    "data = np.load('../data/raw_rank_trunk_chars.npz')\n",
    "percentile_rank_chars = data['rank_chars']\n",
    "regular_chars = data['raw_chars']\n",
    "chars = data['chars']\n",
    "dates = data['dates']\n",
    "return_panel = data['returns']\n",
    "permnos = data['permnos']\n",
    "rts = data['rfs']\n",
    "monthly_updates = data['monthly_updates']"
   ]
  },
  {
   "cell_type": "markdown",
   "id": "f20e34e0",
   "metadata": {},
   "source": [
    "# Appendix"
   ]
  },
  {
   "cell_type": "code",
   "execution_count": null,
   "id": "558f6abb",
   "metadata": {},
   "outputs": [],
   "source": [
    "importlib.reload(imputation_model)\n",
    "importlib.reload(plot_base)\n",
    "\n",
    "importlib.reload(appendix)\n",
    "char_map = {x[0]:x[1] for x in char_groupings}\n",
    "plot4 = appendix.MetricsByNumberOfChars()\n",
    "plot4.setup(percentile_rank_chars, return_panel, char_groupings)\n",
    "for x in plot4.data_string:\n",
    "    if type(x) is str:\n",
    "        print(x)\n",
    "    else:\n",
    "        print(x[0], x[1], round(x[2], 3), x[3], round(x[4], 3), x[5], round(x[6], 3), '\\\\\\\\')"
   ]
  },
  {
   "cell_type": "code",
   "execution_count": 35,
   "id": "d7829dbb",
   "metadata": {
    "scrolled": true
   },
   "outputs": [
    {
     "data": {
      "text/plain": [
       "<module 'python.imputation_model' from '/home/svenl/repos/research/pelger/missing_data_imputation/src/python/imputation_model.py'>"
      ]
     },
     "execution_count": 35,
     "metadata": {},
     "output_type": "execute_result"
    },
    {
     "data": {
      "text/plain": [
       "<module 'python.plots_and_tables.plot_base' from '/home/svenl/repos/research/pelger/missing_data_imputation/src/python/plots_and_tables/plot_base.py'>"
      ]
     },
     "execution_count": 35,
     "metadata": {},
     "output_type": "execute_result"
    },
    {
     "data": {
      "text/plain": [
       "<module 'python.plots_and_tables.appendix' from '/home/svenl/repos/research/pelger/missing_data_imputation/src/python/plots_and_tables/appendix.py'>"
      ]
     },
     "execution_count": 35,
     "metadata": {},
     "output_type": "execute_result"
    },
    {
     "name": "stdout",
     "output_type": "stream",
     "text": [
      "block\n"
     ]
    },
    {
     "data": {
      "application/vnd.jupyter.widget-view+json": {
       "model_id": "74dea30dcd7c4e679f787c57a2831a33",
       "version_major": 2,
       "version_minor": 0
      },
      "text/plain": [
       "  0%|          | 0/528 [00:00<?, ?it/s]"
      ]
     },
     "metadata": {},
     "output_type": "display_data"
    },
    {
     "name": "stdout",
     "output_type": "stream",
     "text": [
      "scalar was 0.08308187842857112\n"
     ]
    },
    {
     "data": {
      "application/vnd.jupyter.widget-view+json": {
       "model_id": "e56eb10643fb4e14a8e24d21ae3d262e",
       "version_major": 2,
       "version_minor": 0
      },
      "text/plain": [
       "  0%|          | 0/45 [00:00<?, ?it/s]"
      ]
     },
     "metadata": {},
     "output_type": "display_data"
    },
    {
     "data": {
      "application/vnd.jupyter.widget-view+json": {
       "model_id": "1a1bb132289047fb9eb7029aa163275c",
       "version_major": 2,
       "version_minor": 0
      },
      "text/plain": [
       "  0%|          | 0/11 [00:00<?, ?it/s]"
      ]
     },
     "metadata": {},
     "output_type": "display_data"
    },
    {
     "name": "stdout",
     "output_type": "stream",
     "text": [
      "allowing a mean False\n",
      "shinking lmbda False\n",
      "1 window size 548\n"
     ]
    },
    {
     "name": "stderr",
     "output_type": "stream",
     "text": [
      "[Parallel(n_jobs=30)]: Using backend LokyBackend with 30 concurrent workers.\n",
      "/home/svenl/environments/base/lib/python3.10/site-packages/joblib/externals/loky/process_executor.py:702: UserWarning: A worker stopped while some jobs were given to the executor. This can be caused by a too short worker timeout or by a memory leak.\n",
      "  warnings.warn(\n",
      "[Parallel(n_jobs=30)]: Done  12 tasks      | elapsed:   48.0s\n",
      "[Parallel(n_jobs=30)]: Done 102 tasks      | elapsed:   56.6s\n",
      "[Parallel(n_jobs=30)]: Done 228 tasks      | elapsed:  1.2min\n",
      "[Parallel(n_jobs=30)]: Done 390 tasks      | elapsed:  1.4min\n",
      "[Parallel(n_jobs=30)]: Done 528 out of 528 | elapsed:  1.6min finished\n"
     ]
    },
    {
     "data": {
      "application/vnd.jupyter.widget-view+json": {
       "model_id": "1f4da9aa81184c91a02b36adfded2214",
       "version_major": 2,
       "version_minor": 0
      },
      "text/plain": [
       "  0%|          | 0/528 [00:00<?, ?it/s]"
      ]
     },
     "metadata": {},
     "output_type": "display_data"
    },
    {
     "name": "stdout",
     "output_type": "stream",
     "text": [
      "at iteration 0 resids rmse are  0.6814484975095206\n",
      "1 window size 548\n"
     ]
    },
    {
     "name": "stderr",
     "output_type": "stream",
     "text": [
      "[Parallel(n_jobs=30)]: Using backend LokyBackend with 30 concurrent workers.\n",
      "[Parallel(n_jobs=30)]: Done  12 tasks      | elapsed:    2.3s\n",
      "[Parallel(n_jobs=30)]: Done 102 tasks      | elapsed:    9.2s\n",
      "[Parallel(n_jobs=30)]: Done 228 tasks      | elapsed:   20.7s\n",
      "[Parallel(n_jobs=30)]: Done 390 tasks      | elapsed:   35.6s\n",
      "[Parallel(n_jobs=30)]: Done 528 out of 528 | elapsed:   45.0s finished\n"
     ]
    },
    {
     "data": {
      "application/vnd.jupyter.widget-view+json": {
       "model_id": "d301e4a28fc54a93b37a679323c627a2",
       "version_major": 2,
       "version_minor": 0
      },
      "text/plain": [
       "  0%|          | 0/528 [00:00<?, ?it/s]"
      ]
     },
     "metadata": {},
     "output_type": "display_data"
    },
    {
     "name": "stdout",
     "output_type": "stream",
     "text": [
      "at iteration 1 resids rmse are  0.6852010077647666\n",
      "1 window size 548\n"
     ]
    },
    {
     "name": "stderr",
     "output_type": "stream",
     "text": [
      "[Parallel(n_jobs=30)]: Using backend LokyBackend with 30 concurrent workers.\n",
      "[Parallel(n_jobs=30)]: Done  12 tasks      | elapsed:    2.4s\n",
      "[Parallel(n_jobs=30)]: Done 102 tasks      | elapsed:    9.3s\n",
      "[Parallel(n_jobs=30)]: Done 228 tasks      | elapsed:   21.3s\n",
      "[Parallel(n_jobs=30)]: Done 390 tasks      | elapsed:   33.7s\n",
      "[Parallel(n_jobs=30)]: Done 528 out of 528 | elapsed:   41.1s finished\n"
     ]
    },
    {
     "data": {
      "application/vnd.jupyter.widget-view+json": {
       "model_id": "c5fede08899e42309d408c02757f5a79",
       "version_major": 2,
       "version_minor": 0
      },
      "text/plain": [
       "  0%|          | 0/528 [00:00<?, ?it/s]"
      ]
     },
     "metadata": {},
     "output_type": "display_data"
    },
    {
     "name": "stdout",
     "output_type": "stream",
     "text": [
      "at iteration 2 resids rmse are  0.6861486459252973\n"
     ]
    },
    {
     "data": {
      "application/vnd.jupyter.widget-view+json": {
       "model_id": "af5089ea6e3a4b7a89196ddf9ecf7c9e",
       "version_major": 2,
       "version_minor": 0
      },
      "text/plain": [
       "  0%|          | 0/45 [00:00<?, ?it/s]"
      ]
     },
     "metadata": {},
     "output_type": "display_data"
    },
    {
     "name": "stdout",
     "output_type": "stream",
     "text": [
      "allowing a mean False\n",
      "shinking lmbda False\n",
      "1 window size 548\n"
     ]
    },
    {
     "name": "stderr",
     "output_type": "stream",
     "text": [
      "[Parallel(n_jobs=30)]: Using backend LokyBackend with 30 concurrent workers.\n",
      "[Parallel(n_jobs=30)]: Done  12 tasks      | elapsed:    2.4s\n",
      "[Parallel(n_jobs=30)]: Done 102 tasks      | elapsed:    9.3s\n",
      "[Parallel(n_jobs=30)]: Done 228 tasks      | elapsed:   21.1s\n",
      "[Parallel(n_jobs=30)]: Done 390 tasks      | elapsed:   35.2s\n",
      "[Parallel(n_jobs=30)]: Done 528 out of 528 | elapsed:   44.7s finished\n"
     ]
    },
    {
     "data": {
      "application/vnd.jupyter.widget-view+json": {
       "model_id": "fe9f628e49d44ad3b8bc0cc133f33a51",
       "version_major": 2,
       "version_minor": 0
      },
      "text/plain": [
       "  0%|          | 0/528 [00:00<?, ?it/s]"
      ]
     },
     "metadata": {},
     "output_type": "display_data"
    },
    {
     "name": "stdout",
     "output_type": "stream",
     "text": [
      "at iteration 0 resids rmse are  0.6603947655199103\n",
      "1 window size 548\n"
     ]
    },
    {
     "name": "stderr",
     "output_type": "stream",
     "text": [
      "[Parallel(n_jobs=30)]: Using backend LokyBackend with 30 concurrent workers.\n",
      "[Parallel(n_jobs=30)]: Done  12 tasks      | elapsed:    2.3s\n",
      "[Parallel(n_jobs=30)]: Done 102 tasks      | elapsed:    9.0s\n",
      "[Parallel(n_jobs=30)]: Done 228 tasks      | elapsed:   21.5s\n",
      "[Parallel(n_jobs=30)]: Done 390 tasks      | elapsed:   36.2s\n",
      "[Parallel(n_jobs=30)]: Done 528 out of 528 | elapsed:   45.7s finished\n"
     ]
    },
    {
     "data": {
      "application/vnd.jupyter.widget-view+json": {
       "model_id": "4d74dce773c34b22abdc0a9d6465ac9e",
       "version_major": 2,
       "version_minor": 0
      },
      "text/plain": [
       "  0%|          | 0/528 [00:00<?, ?it/s]"
      ]
     },
     "metadata": {},
     "output_type": "display_data"
    },
    {
     "name": "stdout",
     "output_type": "stream",
     "text": [
      "at iteration 1 resids rmse are  0.6650726376475462\n",
      "1 window size 548\n"
     ]
    },
    {
     "name": "stderr",
     "output_type": "stream",
     "text": [
      "[Parallel(n_jobs=30)]: Using backend LokyBackend with 30 concurrent workers.\n",
      "[Parallel(n_jobs=30)]: Done  12 tasks      | elapsed:    2.9s\n",
      "[Parallel(n_jobs=30)]: Done 102 tasks      | elapsed:    8.2s\n",
      "[Parallel(n_jobs=30)]: Done 228 tasks      | elapsed:   17.2s\n",
      "[Parallel(n_jobs=30)]: Done 390 tasks      | elapsed:   28.4s\n",
      "[Parallel(n_jobs=30)]: Done 528 out of 528 | elapsed:   35.4s finished\n"
     ]
    },
    {
     "data": {
      "application/vnd.jupyter.widget-view+json": {
       "model_id": "5e5c3ecee14d46ec9336b1205cc8a034",
       "version_major": 2,
       "version_minor": 0
      },
      "text/plain": [
       "  0%|          | 0/528 [00:00<?, ?it/s]"
      ]
     },
     "metadata": {},
     "output_type": "display_data"
    },
    {
     "name": "stdout",
     "output_type": "stream",
     "text": [
      "at iteration 2 resids rmse are  0.6660391934035796\n"
     ]
    },
    {
     "data": {
      "application/vnd.jupyter.widget-view+json": {
       "model_id": "2b0f63c6f99c4458ac5ed85466659b04",
       "version_major": 2,
       "version_minor": 0
      },
      "text/plain": [
       "  0%|          | 0/45 [00:00<?, ?it/s]"
      ]
     },
     "metadata": {},
     "output_type": "display_data"
    },
    {
     "name": "stdout",
     "output_type": "stream",
     "text": [
      "allowing a mean False\n",
      "shinking lmbda False\n",
      "1 window size 548\n"
     ]
    },
    {
     "name": "stderr",
     "output_type": "stream",
     "text": [
      "[Parallel(n_jobs=30)]: Using backend LokyBackend with 30 concurrent workers.\n",
      "[Parallel(n_jobs=30)]: Done  12 tasks      | elapsed:    1.9s\n",
      "[Parallel(n_jobs=30)]: Done 102 tasks      | elapsed:    7.3s\n",
      "[Parallel(n_jobs=30)]: Done 228 tasks      | elapsed:   17.0s\n",
      "[Parallel(n_jobs=30)]: Done 390 tasks      | elapsed:   28.5s\n",
      "[Parallel(n_jobs=30)]: Done 528 out of 528 | elapsed:   35.7s finished\n"
     ]
    },
    {
     "data": {
      "application/vnd.jupyter.widget-view+json": {
       "model_id": "b334bad8e5b84d839c539555abc558d1",
       "version_major": 2,
       "version_minor": 0
      },
      "text/plain": [
       "  0%|          | 0/528 [00:00<?, ?it/s]"
      ]
     },
     "metadata": {},
     "output_type": "display_data"
    },
    {
     "name": "stdout",
     "output_type": "stream",
     "text": [
      "at iteration 0 resids rmse are  0.6408781650025933\n",
      "1 window size 548\n"
     ]
    },
    {
     "name": "stderr",
     "output_type": "stream",
     "text": [
      "[Parallel(n_jobs=30)]: Using backend LokyBackend with 30 concurrent workers.\n",
      "[Parallel(n_jobs=30)]: Done  12 tasks      | elapsed:    2.0s\n",
      "[Parallel(n_jobs=30)]: Done 102 tasks      | elapsed:    7.9s\n",
      "[Parallel(n_jobs=30)]: Done 228 tasks      | elapsed:   18.3s\n",
      "[Parallel(n_jobs=30)]: Done 390 tasks      | elapsed:   31.1s\n",
      "[Parallel(n_jobs=30)]: Done 528 out of 528 | elapsed:   38.6s finished\n"
     ]
    },
    {
     "data": {
      "application/vnd.jupyter.widget-view+json": {
       "model_id": "af2d3bf98fbf47b1b094abc29c68f338",
       "version_major": 2,
       "version_minor": 0
      },
      "text/plain": [
       "  0%|          | 0/528 [00:00<?, ?it/s]"
      ]
     },
     "metadata": {},
     "output_type": "display_data"
    },
    {
     "name": "stdout",
     "output_type": "stream",
     "text": [
      "at iteration 1 resids rmse are  0.6461216142834104\n",
      "1 window size 548\n"
     ]
    },
    {
     "name": "stderr",
     "output_type": "stream",
     "text": [
      "[Parallel(n_jobs=30)]: Using backend LokyBackend with 30 concurrent workers.\n",
      "[Parallel(n_jobs=30)]: Done  12 tasks      | elapsed:    1.8s\n",
      "[Parallel(n_jobs=30)]: Done 102 tasks      | elapsed:    7.5s\n",
      "[Parallel(n_jobs=30)]: Done 228 tasks      | elapsed:   17.2s\n",
      "[Parallel(n_jobs=30)]: Done 390 tasks      | elapsed:   28.8s\n",
      "[Parallel(n_jobs=30)]: Done 528 out of 528 | elapsed:   36.1s finished\n"
     ]
    },
    {
     "data": {
      "application/vnd.jupyter.widget-view+json": {
       "model_id": "822d9b5451fd48fcb4662848ec21170e",
       "version_major": 2,
       "version_minor": 0
      },
      "text/plain": [
       "  0%|          | 0/528 [00:00<?, ?it/s]"
      ]
     },
     "metadata": {},
     "output_type": "display_data"
    },
    {
     "name": "stdout",
     "output_type": "stream",
     "text": [
      "at iteration 2 resids rmse are  0.6465615862637262\n"
     ]
    },
    {
     "data": {
      "application/vnd.jupyter.widget-view+json": {
       "model_id": "008b8d57aec844f8b3f6c5a6eeea601f",
       "version_major": 2,
       "version_minor": 0
      },
      "text/plain": [
       "  0%|          | 0/45 [00:00<?, ?it/s]"
      ]
     },
     "metadata": {},
     "output_type": "display_data"
    },
    {
     "name": "stdout",
     "output_type": "stream",
     "text": [
      "allowing a mean False\n",
      "shinking lmbda False\n",
      "1 window size 548\n"
     ]
    },
    {
     "name": "stderr",
     "output_type": "stream",
     "text": [
      "[Parallel(n_jobs=30)]: Using backend LokyBackend with 30 concurrent workers.\n",
      "[Parallel(n_jobs=30)]: Done  12 tasks      | elapsed:    1.8s\n",
      "[Parallel(n_jobs=30)]: Done 102 tasks      | elapsed:    7.3s\n",
      "[Parallel(n_jobs=30)]: Done 228 tasks      | elapsed:   17.0s\n",
      "[Parallel(n_jobs=30)]: Done 390 tasks      | elapsed:   31.2s\n",
      "[Parallel(n_jobs=30)]: Done 528 out of 528 | elapsed:   41.4s finished\n"
     ]
    },
    {
     "data": {
      "application/vnd.jupyter.widget-view+json": {
       "model_id": "e791038c8c3e4c879328848196f0235d",
       "version_major": 2,
       "version_minor": 0
      },
      "text/plain": [
       "  0%|          | 0/528 [00:00<?, ?it/s]"
      ]
     },
     "metadata": {},
     "output_type": "display_data"
    },
    {
     "name": "stdout",
     "output_type": "stream",
     "text": [
      "at iteration 0 resids rmse are  0.6218240514086226\n",
      "1 window size 548\n"
     ]
    },
    {
     "name": "stderr",
     "output_type": "stream",
     "text": [
      "[Parallel(n_jobs=30)]: Using backend LokyBackend with 30 concurrent workers.\n",
      "[Parallel(n_jobs=30)]: Done  12 tasks      | elapsed:    2.5s\n",
      "[Parallel(n_jobs=30)]: Done 102 tasks      | elapsed:   10.1s\n",
      "[Parallel(n_jobs=30)]: Done 228 tasks      | elapsed:   23.3s\n",
      "[Parallel(n_jobs=30)]: Done 390 tasks      | elapsed:   39.1s\n",
      "[Parallel(n_jobs=30)]: Done 528 out of 528 | elapsed:   48.7s finished\n"
     ]
    },
    {
     "data": {
      "application/vnd.jupyter.widget-view+json": {
       "model_id": "73c843bed2634f199012686cd2127d95",
       "version_major": 2,
       "version_minor": 0
      },
      "text/plain": [
       "  0%|          | 0/528 [00:00<?, ?it/s]"
      ]
     },
     "metadata": {},
     "output_type": "display_data"
    },
    {
     "name": "stdout",
     "output_type": "stream",
     "text": [
      "at iteration 1 resids rmse are  0.6269999616632066\n",
      "1 window size 548\n"
     ]
    },
    {
     "name": "stderr",
     "output_type": "stream",
     "text": [
      "[Parallel(n_jobs=30)]: Using backend LokyBackend with 30 concurrent workers.\n",
      "[Parallel(n_jobs=30)]: Done  12 tasks      | elapsed:    2.5s\n",
      "[Parallel(n_jobs=30)]: Done 102 tasks      | elapsed:    9.7s\n",
      "[Parallel(n_jobs=30)]: Done 228 tasks      | elapsed:   22.8s\n",
      "[Parallel(n_jobs=30)]: Done 390 tasks      | elapsed:   40.1s\n",
      "[Parallel(n_jobs=30)]: Done 528 out of 528 | elapsed:   51.0s finished\n"
     ]
    },
    {
     "data": {
      "application/vnd.jupyter.widget-view+json": {
       "model_id": "e7bd1fa839044151971a400a81a71aba",
       "version_major": 2,
       "version_minor": 0
      },
      "text/plain": [
       "  0%|          | 0/528 [00:00<?, ?it/s]"
      ]
     },
     "metadata": {},
     "output_type": "display_data"
    },
    {
     "name": "stdout",
     "output_type": "stream",
     "text": [
      "at iteration 2 resids rmse are  0.6274631390513774\n"
     ]
    },
    {
     "data": {
      "application/vnd.jupyter.widget-view+json": {
       "model_id": "b5f16e1d4e1849d794dfa0ab5e6e82d1",
       "version_major": 2,
       "version_minor": 0
      },
      "text/plain": [
       "  0%|          | 0/45 [00:00<?, ?it/s]"
      ]
     },
     "metadata": {},
     "output_type": "display_data"
    },
    {
     "name": "stdout",
     "output_type": "stream",
     "text": [
      "allowing a mean False\n",
      "shinking lmbda False\n",
      "1 window size 548\n"
     ]
    },
    {
     "name": "stderr",
     "output_type": "stream",
     "text": [
      "[Parallel(n_jobs=30)]: Using backend LokyBackend with 30 concurrent workers.\n",
      "[Parallel(n_jobs=30)]: Done  12 tasks      | elapsed:    2.3s\n",
      "[Parallel(n_jobs=30)]: Done 102 tasks      | elapsed:   10.0s\n",
      "[Parallel(n_jobs=30)]: Done 228 tasks      | elapsed:   23.9s\n",
      "[Parallel(n_jobs=30)]: Done 390 tasks      | elapsed:   40.5s\n",
      "[Parallel(n_jobs=30)]: Done 528 out of 528 | elapsed:   50.5s finished\n"
     ]
    },
    {
     "data": {
      "application/vnd.jupyter.widget-view+json": {
       "model_id": "72ce10cd39704a8eb2a69c1bfcdbfb2c",
       "version_major": 2,
       "version_minor": 0
      },
      "text/plain": [
       "  0%|          | 0/528 [00:00<?, ?it/s]"
      ]
     },
     "metadata": {},
     "output_type": "display_data"
    },
    {
     "name": "stdout",
     "output_type": "stream",
     "text": [
      "at iteration 0 resids rmse are  0.6036777924753457\n",
      "1 window size 548\n"
     ]
    },
    {
     "name": "stderr",
     "output_type": "stream",
     "text": [
      "[Parallel(n_jobs=30)]: Using backend LokyBackend with 30 concurrent workers.\n",
      "[Parallel(n_jobs=30)]: Done  12 tasks      | elapsed:    2.5s\n",
      "[Parallel(n_jobs=30)]: Done 102 tasks      | elapsed:   12.6s\n",
      "[Parallel(n_jobs=30)]: Done 228 tasks      | elapsed:   25.9s\n",
      "[Parallel(n_jobs=30)]: Done 390 tasks      | elapsed:   42.9s\n",
      "[Parallel(n_jobs=30)]: Done 528 out of 528 | elapsed:   53.3s finished\n"
     ]
    },
    {
     "data": {
      "application/vnd.jupyter.widget-view+json": {
       "model_id": "fd730ad71cca4f3b83ffb09052664fd5",
       "version_major": 2,
       "version_minor": 0
      },
      "text/plain": [
       "  0%|          | 0/528 [00:00<?, ?it/s]"
      ]
     },
     "metadata": {},
     "output_type": "display_data"
    },
    {
     "name": "stdout",
     "output_type": "stream",
     "text": [
      "at iteration 1 resids rmse are  0.6101079817807888\n",
      "1 window size 548\n"
     ]
    },
    {
     "name": "stderr",
     "output_type": "stream",
     "text": [
      "[Parallel(n_jobs=30)]: Using backend LokyBackend with 30 concurrent workers.\n",
      "[Parallel(n_jobs=30)]: Done  12 tasks      | elapsed:    2.4s\n",
      "[Parallel(n_jobs=30)]: Done 102 tasks      | elapsed:   11.3s\n",
      "[Parallel(n_jobs=30)]: Done 228 tasks      | elapsed:   25.2s\n",
      "[Parallel(n_jobs=30)]: Done 390 tasks      | elapsed:   41.4s\n",
      "[Parallel(n_jobs=30)]: Done 528 out of 528 | elapsed:   51.5s finished\n"
     ]
    },
    {
     "data": {
      "application/vnd.jupyter.widget-view+json": {
       "model_id": "918e27fa4a884060ba17eb46caabb31a",
       "version_major": 2,
       "version_minor": 0
      },
      "text/plain": [
       "  0%|          | 0/528 [00:00<?, ?it/s]"
      ]
     },
     "metadata": {},
     "output_type": "display_data"
    },
    {
     "name": "stdout",
     "output_type": "stream",
     "text": [
      "at iteration 2 resids rmse are  0.610593754811872\n"
     ]
    },
    {
     "data": {
      "application/vnd.jupyter.widget-view+json": {
       "model_id": "84e791f6211e4ccf873ae482248d70b5",
       "version_major": 2,
       "version_minor": 0
      },
      "text/plain": [
       "  0%|          | 0/45 [00:00<?, ?it/s]"
      ]
     },
     "metadata": {},
     "output_type": "display_data"
    },
    {
     "name": "stdout",
     "output_type": "stream",
     "text": [
      "allowing a mean False\n",
      "shinking lmbda False\n",
      "1 window size 548\n"
     ]
    },
    {
     "name": "stderr",
     "output_type": "stream",
     "text": [
      "[Parallel(n_jobs=30)]: Using backend LokyBackend with 30 concurrent workers.\n",
      "[Parallel(n_jobs=30)]: Done  12 tasks      | elapsed:    2.7s\n",
      "[Parallel(n_jobs=30)]: Done 102 tasks      | elapsed:   11.1s\n",
      "[Parallel(n_jobs=30)]: Done 228 tasks      | elapsed:   25.7s\n",
      "[Parallel(n_jobs=30)]: Done 390 tasks      | elapsed:   42.5s\n",
      "[Parallel(n_jobs=30)]: Done 528 out of 528 | elapsed:   53.8s finished\n"
     ]
    },
    {
     "data": {
      "application/vnd.jupyter.widget-view+json": {
       "model_id": "bf7c724241f6449383754f6df981de31",
       "version_major": 2,
       "version_minor": 0
      },
      "text/plain": [
       "  0%|          | 0/528 [00:00<?, ?it/s]"
      ]
     },
     "metadata": {},
     "output_type": "display_data"
    },
    {
     "name": "stdout",
     "output_type": "stream",
     "text": [
      "at iteration 0 resids rmse are  0.5860714221807094\n",
      "1 window size 548\n"
     ]
    },
    {
     "name": "stderr",
     "output_type": "stream",
     "text": [
      "[Parallel(n_jobs=30)]: Using backend LokyBackend with 30 concurrent workers.\n",
      "[Parallel(n_jobs=30)]: Done  12 tasks      | elapsed:    2.7s\n",
      "[Parallel(n_jobs=30)]: Done 102 tasks      | elapsed:   10.9s\n",
      "[Parallel(n_jobs=30)]: Done 228 tasks      | elapsed:   24.8s\n",
      "[Parallel(n_jobs=30)]: Done 390 tasks      | elapsed:   41.9s\n",
      "[Parallel(n_jobs=30)]: Done 528 out of 528 | elapsed:   52.2s finished\n"
     ]
    },
    {
     "data": {
      "application/vnd.jupyter.widget-view+json": {
       "model_id": "c87eea4d3230461db7a1cb90e72b7bcf",
       "version_major": 2,
       "version_minor": 0
      },
      "text/plain": [
       "  0%|          | 0/528 [00:00<?, ?it/s]"
      ]
     },
     "metadata": {},
     "output_type": "display_data"
    },
    {
     "name": "stderr",
     "output_type": "stream",
     "text": [
      "IOPub message rate exceeded.\n",
      "The notebook server will temporarily stop sending output\n",
      "to the client in order to avoid crashing it.\n",
      "To change this limit, set the config variable\n",
      "`--NotebookApp.iopub_msg_rate_limit`.\n",
      "\n",
      "Current values:\n",
      "NotebookApp.iopub_msg_rate_limit=1000.0 (msgs/sec)\n",
      "NotebookApp.rate_limit_window=3.0 (secs)\n",
      "\n"
     ]
    },
    {
     "data": {
      "application/vnd.jupyter.widget-view+json": {
       "model_id": "a64dc303258746308c605b7cf4916e5a",
       "version_major": 2,
       "version_minor": 0
      },
      "text/plain": [
       "  0%|          | 0/11 [00:00<?, ?it/s]"
      ]
     },
     "metadata": {},
     "output_type": "display_data"
    },
    {
     "name": "stdout",
     "output_type": "stream",
     "text": [
      "allowing a mean False\n",
      "shinking lmbda False\n",
      "1 window size 548\n"
     ]
    },
    {
     "name": "stderr",
     "output_type": "stream",
     "text": [
      "[Parallel(n_jobs=30)]: Using backend LokyBackend with 30 concurrent workers.\n",
      "[Parallel(n_jobs=30)]: Done  12 tasks      | elapsed:    1.6s\n",
      "[Parallel(n_jobs=30)]: Done 102 tasks      | elapsed:    6.1s\n",
      "[Parallel(n_jobs=30)]: Done 228 tasks      | elapsed:   14.0s\n",
      "[Parallel(n_jobs=30)]: Done 390 tasks      | elapsed:   23.9s\n",
      "[Parallel(n_jobs=30)]: Done 528 out of 528 | elapsed:   30.1s finished\n"
     ]
    },
    {
     "data": {
      "application/vnd.jupyter.widget-view+json": {
       "model_id": "d47fc0ac9c874d5dbfbd7820cb2007bd",
       "version_major": 2,
       "version_minor": 0
      },
      "text/plain": [
       "  0%|          | 0/528 [00:00<?, ?it/s]"
      ]
     },
     "metadata": {},
     "output_type": "display_data"
    },
    {
     "name": "stdout",
     "output_type": "stream",
     "text": [
      "at iteration 0 resids rmse are  0.47342088708824304\n",
      "1 window size 548\n"
     ]
    },
    {
     "name": "stderr",
     "output_type": "stream",
     "text": [
      "[Parallel(n_jobs=30)]: Using backend LokyBackend with 30 concurrent workers.\n",
      "[Parallel(n_jobs=30)]: Done  12 tasks      | elapsed:    1.7s\n",
      "[Parallel(n_jobs=30)]: Done 102 tasks      | elapsed:    6.2s\n",
      "[Parallel(n_jobs=30)]: Done 228 tasks      | elapsed:   14.3s\n",
      "[Parallel(n_jobs=30)]: Done 390 tasks      | elapsed:   24.0s\n",
      "[Parallel(n_jobs=30)]: Done 528 out of 528 | elapsed:   30.4s finished\n"
     ]
    },
    {
     "data": {
      "application/vnd.jupyter.widget-view+json": {
       "model_id": "ed380f35be9247d3b5f40abf4eb029d7",
       "version_major": 2,
       "version_minor": 0
      },
      "text/plain": [
       "  0%|          | 0/528 [00:00<?, ?it/s]"
      ]
     },
     "metadata": {},
     "output_type": "display_data"
    },
    {
     "name": "stdout",
     "output_type": "stream",
     "text": [
      "at iteration 1 resids rmse are  0.4776955330934257\n",
      "1 window size 548\n"
     ]
    },
    {
     "name": "stderr",
     "output_type": "stream",
     "text": [
      "[Parallel(n_jobs=30)]: Using backend LokyBackend with 30 concurrent workers.\n",
      "[Parallel(n_jobs=30)]: Done  12 tasks      | elapsed:    1.6s\n",
      "[Parallel(n_jobs=30)]: Done 102 tasks      | elapsed:    6.2s\n",
      "[Parallel(n_jobs=30)]: Done 228 tasks      | elapsed:   14.4s\n",
      "[Parallel(n_jobs=30)]: Done 390 tasks      | elapsed:   24.6s\n",
      "[Parallel(n_jobs=30)]: Done 528 out of 528 | elapsed:   31.0s finished\n"
     ]
    },
    {
     "data": {
      "application/vnd.jupyter.widget-view+json": {
       "model_id": "080afb5dc64d4c3195e12631704ae147",
       "version_major": 2,
       "version_minor": 0
      },
      "text/plain": [
       "  0%|          | 0/528 [00:00<?, ?it/s]"
      ]
     },
     "metadata": {},
     "output_type": "display_data"
    },
    {
     "name": "stdout",
     "output_type": "stream",
     "text": [
      "at iteration 2 resids rmse are  0.4792134397112056\n"
     ]
    },
    {
     "data": {
      "application/vnd.jupyter.widget-view+json": {
       "model_id": "5fe8b5b3ff7b4714ac23388c5b30a857",
       "version_major": 2,
       "version_minor": 0
      },
      "text/plain": [
       "  0%|          | 0/45 [00:00<?, ?it/s]"
      ]
     },
     "metadata": {},
     "output_type": "display_data"
    },
    {
     "name": "stdout",
     "output_type": "stream",
     "text": [
      "allowing a mean False\n",
      "shinking lmbda False\n",
      "1 window size 548\n"
     ]
    },
    {
     "name": "stderr",
     "output_type": "stream",
     "text": [
      "[Parallel(n_jobs=30)]: Using backend LokyBackend with 30 concurrent workers.\n",
      "[Parallel(n_jobs=30)]: Done  12 tasks      | elapsed:    1.6s\n",
      "[Parallel(n_jobs=30)]: Done 102 tasks      | elapsed:    6.2s\n",
      "[Parallel(n_jobs=30)]: Done 228 tasks      | elapsed:   14.4s\n",
      "[Parallel(n_jobs=30)]: Done 390 tasks      | elapsed:   24.3s\n",
      "[Parallel(n_jobs=30)]: Done 528 out of 528 | elapsed:   30.6s finished\n"
     ]
    },
    {
     "data": {
      "application/vnd.jupyter.widget-view+json": {
       "model_id": "e52c0837d53f417dbc80cefc6c8650fb",
       "version_major": 2,
       "version_minor": 0
      },
      "text/plain": [
       "  0%|          | 0/528 [00:00<?, ?it/s]"
      ]
     },
     "metadata": {},
     "output_type": "display_data"
    },
    {
     "name": "stdout",
     "output_type": "stream",
     "text": [
      "at iteration 0 resids rmse are  0.45232752948270455\n",
      "1 window size 548\n"
     ]
    },
    {
     "name": "stderr",
     "output_type": "stream",
     "text": [
      "[Parallel(n_jobs=30)]: Using backend LokyBackend with 30 concurrent workers.\n",
      "[Parallel(n_jobs=30)]: Done  12 tasks      | elapsed:    1.9s\n",
      "[Parallel(n_jobs=30)]: Done 102 tasks      | elapsed:    6.3s\n",
      "[Parallel(n_jobs=30)]: Done 228 tasks      | elapsed:   14.6s\n",
      "[Parallel(n_jobs=30)]: Done 390 tasks      | elapsed:   24.5s\n",
      "[Parallel(n_jobs=30)]: Done 528 out of 528 | elapsed:   31.2s finished\n"
     ]
    },
    {
     "data": {
      "application/vnd.jupyter.widget-view+json": {
       "model_id": "745ebd70d6624f619de9d2c818063f59",
       "version_major": 2,
       "version_minor": 0
      },
      "text/plain": [
       "  0%|          | 0/528 [00:00<?, ?it/s]"
      ]
     },
     "metadata": {},
     "output_type": "display_data"
    },
    {
     "name": "stdout",
     "output_type": "stream",
     "text": [
      "at iteration 1 resids rmse are  0.4559953044650809\n",
      "1 window size 548\n"
     ]
    },
    {
     "name": "stderr",
     "output_type": "stream",
     "text": [
      "[Parallel(n_jobs=30)]: Using backend LokyBackend with 30 concurrent workers.\n",
      "[Parallel(n_jobs=30)]: Done  12 tasks      | elapsed:    1.7s\n",
      "[Parallel(n_jobs=30)]: Done 102 tasks      | elapsed:    6.2s\n",
      "[Parallel(n_jobs=30)]: Done 228 tasks      | elapsed:   14.4s\n",
      "[Parallel(n_jobs=30)]: Done 390 tasks      | elapsed:   24.6s\n",
      "[Parallel(n_jobs=30)]: Done 528 out of 528 | elapsed:   31.0s finished\n"
     ]
    },
    {
     "data": {
      "application/vnd.jupyter.widget-view+json": {
       "model_id": "4bf06585e3b54e76982fa5eae7cb5c61",
       "version_major": 2,
       "version_minor": 0
      },
      "text/plain": [
       "  0%|          | 0/528 [00:00<?, ?it/s]"
      ]
     },
     "metadata": {},
     "output_type": "display_data"
    },
    {
     "name": "stdout",
     "output_type": "stream",
     "text": [
      "at iteration 2 resids rmse are  0.45675795862132457\n"
     ]
    },
    {
     "data": {
      "application/vnd.jupyter.widget-view+json": {
       "model_id": "cd94dd9959404db98d85cebf26fbe0c9",
       "version_major": 2,
       "version_minor": 0
      },
      "text/plain": [
       "  0%|          | 0/45 [00:00<?, ?it/s]"
      ]
     },
     "metadata": {},
     "output_type": "display_data"
    },
    {
     "name": "stdout",
     "output_type": "stream",
     "text": [
      "allowing a mean False\n",
      "shinking lmbda False\n",
      "1 window size 548\n"
     ]
    },
    {
     "name": "stderr",
     "output_type": "stream",
     "text": [
      "[Parallel(n_jobs=30)]: Using backend LokyBackend with 30 concurrent workers.\n",
      "[Parallel(n_jobs=30)]: Done  12 tasks      | elapsed:    1.6s\n",
      "[Parallel(n_jobs=30)]: Done 102 tasks      | elapsed:    6.4s\n",
      "[Parallel(n_jobs=30)]: Done 228 tasks      | elapsed:   14.8s\n",
      "[Parallel(n_jobs=30)]: Done 390 tasks      | elapsed:   25.1s\n",
      "[Parallel(n_jobs=30)]: Done 528 out of 528 | elapsed:   31.7s finished\n"
     ]
    },
    {
     "data": {
      "application/vnd.jupyter.widget-view+json": {
       "model_id": "7f61b6c22742490fa139469f54bac401",
       "version_major": 2,
       "version_minor": 0
      },
      "text/plain": [
       "  0%|          | 0/528 [00:00<?, ?it/s]"
      ]
     },
     "metadata": {},
     "output_type": "display_data"
    },
    {
     "name": "stdout",
     "output_type": "stream",
     "text": [
      "at iteration 0 resids rmse are  0.43164652805109704\n",
      "1 window size 548\n"
     ]
    },
    {
     "name": "stderr",
     "output_type": "stream",
     "text": [
      "[Parallel(n_jobs=30)]: Using backend LokyBackend with 30 concurrent workers.\n",
      "[Parallel(n_jobs=30)]: Done  12 tasks      | elapsed:    1.6s\n",
      "[Parallel(n_jobs=30)]: Done 102 tasks      | elapsed:    6.5s\n",
      "[Parallel(n_jobs=30)]: Done 228 tasks      | elapsed:   14.8s\n",
      "[Parallel(n_jobs=30)]: Done 390 tasks      | elapsed:   25.3s\n",
      "[Parallel(n_jobs=30)]: Done 528 out of 528 | elapsed:   31.9s finished\n"
     ]
    },
    {
     "data": {
      "application/vnd.jupyter.widget-view+json": {
       "model_id": "d211874cf948440881b3f7cf7baa6f0b",
       "version_major": 2,
       "version_minor": 0
      },
      "text/plain": [
       "  0%|          | 0/528 [00:00<?, ?it/s]"
      ]
     },
     "metadata": {},
     "output_type": "display_data"
    },
    {
     "name": "stdout",
     "output_type": "stream",
     "text": [
      "at iteration 1 resids rmse are  0.4362691183654619\n",
      "1 window size 548\n"
     ]
    },
    {
     "name": "stderr",
     "output_type": "stream",
     "text": [
      "[Parallel(n_jobs=30)]: Using backend LokyBackend with 30 concurrent workers.\n",
      "[Parallel(n_jobs=30)]: Done  12 tasks      | elapsed:    1.7s\n",
      "[Parallel(n_jobs=30)]: Done 102 tasks      | elapsed:    6.5s\n",
      "[Parallel(n_jobs=30)]: Done 228 tasks      | elapsed:   14.8s\n",
      "[Parallel(n_jobs=30)]: Done 390 tasks      | elapsed:   25.3s\n",
      "[Parallel(n_jobs=30)]: Done 528 out of 528 | elapsed:   31.8s finished\n"
     ]
    },
    {
     "data": {
      "application/vnd.jupyter.widget-view+json": {
       "model_id": "6fa3832f3dcd4930abaed66b8a236849",
       "version_major": 2,
       "version_minor": 0
      },
      "text/plain": [
       "  0%|          | 0/528 [00:00<?, ?it/s]"
      ]
     },
     "metadata": {},
     "output_type": "display_data"
    },
    {
     "name": "stdout",
     "output_type": "stream",
     "text": [
      "at iteration 2 resids rmse are  0.4373680846907653\n"
     ]
    },
    {
     "data": {
      "application/vnd.jupyter.widget-view+json": {
       "model_id": "7feae8fae0df41d99f83f9d7b6940b67",
       "version_major": 2,
       "version_minor": 0
      },
      "text/plain": [
       "  0%|          | 0/45 [00:00<?, ?it/s]"
      ]
     },
     "metadata": {},
     "output_type": "display_data"
    },
    {
     "name": "stdout",
     "output_type": "stream",
     "text": [
      "allowing a mean False\n",
      "shinking lmbda False\n",
      "1 window size 548\n"
     ]
    },
    {
     "name": "stderr",
     "output_type": "stream",
     "text": [
      "[Parallel(n_jobs=30)]: Using backend LokyBackend with 30 concurrent workers.\n",
      "[Parallel(n_jobs=30)]: Done  12 tasks      | elapsed:    1.8s\n",
      "[Parallel(n_jobs=30)]: Done 102 tasks      | elapsed:    6.7s\n",
      "[Parallel(n_jobs=30)]: Done 228 tasks      | elapsed:   15.3s\n",
      "[Parallel(n_jobs=30)]: Done 390 tasks      | elapsed:   26.1s\n",
      "[Parallel(n_jobs=30)]: Done 528 out of 528 | elapsed:   32.9s finished\n"
     ]
    },
    {
     "data": {
      "application/vnd.jupyter.widget-view+json": {
       "model_id": "0f4ddd9e2c3e44c69b4f76ca4601568e",
       "version_major": 2,
       "version_minor": 0
      },
      "text/plain": [
       "  0%|          | 0/528 [00:00<?, ?it/s]"
      ]
     },
     "metadata": {},
     "output_type": "display_data"
    },
    {
     "name": "stdout",
     "output_type": "stream",
     "text": [
      "at iteration 0 resids rmse are  0.4129656260399071\n",
      "1 window size 548\n"
     ]
    },
    {
     "name": "stderr",
     "output_type": "stream",
     "text": [
      "[Parallel(n_jobs=30)]: Using backend LokyBackend with 30 concurrent workers.\n",
      "[Parallel(n_jobs=30)]: Done  12 tasks      | elapsed:    1.7s\n",
      "[Parallel(n_jobs=30)]: Done 102 tasks      | elapsed:    6.6s\n",
      "[Parallel(n_jobs=30)]: Done 228 tasks      | elapsed:   15.4s\n",
      "[Parallel(n_jobs=30)]: Done 390 tasks      | elapsed:   26.5s\n",
      "[Parallel(n_jobs=30)]: Done 528 out of 528 | elapsed:   33.5s finished\n"
     ]
    },
    {
     "data": {
      "application/vnd.jupyter.widget-view+json": {
       "model_id": "ba2ee783bfa14d15b4fa0a3817511c9a",
       "version_major": 2,
       "version_minor": 0
      },
      "text/plain": [
       "  0%|          | 0/528 [00:00<?, ?it/s]"
      ]
     },
     "metadata": {},
     "output_type": "display_data"
    },
    {
     "name": "stdout",
     "output_type": "stream",
     "text": [
      "at iteration 1 resids rmse are  0.41766932657518724\n",
      "1 window size 548\n"
     ]
    },
    {
     "name": "stderr",
     "output_type": "stream",
     "text": [
      "[Parallel(n_jobs=30)]: Using backend LokyBackend with 30 concurrent workers.\n",
      "[Parallel(n_jobs=30)]: Done  12 tasks      | elapsed:    1.8s\n",
      "[Parallel(n_jobs=30)]: Done 102 tasks      | elapsed:    6.7s\n",
      "[Parallel(n_jobs=30)]: Done 228 tasks      | elapsed:   15.4s\n",
      "[Parallel(n_jobs=30)]: Done 390 tasks      | elapsed:   26.0s\n",
      "[Parallel(n_jobs=30)]: Done 528 out of 528 | elapsed:   32.5s finished\n"
     ]
    },
    {
     "data": {
      "application/vnd.jupyter.widget-view+json": {
       "model_id": "997724396f4f4ee09c3abc3c90167325",
       "version_major": 2,
       "version_minor": 0
      },
      "text/plain": [
       "  0%|          | 0/528 [00:00<?, ?it/s]"
      ]
     },
     "metadata": {},
     "output_type": "display_data"
    },
    {
     "name": "stdout",
     "output_type": "stream",
     "text": [
      "at iteration 2 resids rmse are  0.41849113173584895\n"
     ]
    },
    {
     "data": {
      "application/vnd.jupyter.widget-view+json": {
       "model_id": "d9c9fe6ba16b46e6b9243f816e53edc1",
       "version_major": 2,
       "version_minor": 0
      },
      "text/plain": [
       "  0%|          | 0/45 [00:00<?, ?it/s]"
      ]
     },
     "metadata": {},
     "output_type": "display_data"
    },
    {
     "name": "stdout",
     "output_type": "stream",
     "text": [
      "allowing a mean False\n",
      "shinking lmbda False\n",
      "1 window size 548\n"
     ]
    },
    {
     "name": "stderr",
     "output_type": "stream",
     "text": [
      "[Parallel(n_jobs=30)]: Using backend LokyBackend with 30 concurrent workers.\n",
      "[Parallel(n_jobs=30)]: Done  12 tasks      | elapsed:    1.7s\n",
      "[Parallel(n_jobs=30)]: Done 102 tasks      | elapsed:    6.7s\n",
      "[Parallel(n_jobs=30)]: Done 228 tasks      | elapsed:   15.7s\n",
      "[Parallel(n_jobs=30)]: Done 390 tasks      | elapsed:   26.8s\n",
      "[Parallel(n_jobs=30)]: Done 528 out of 528 | elapsed:   33.8s finished\n"
     ]
    },
    {
     "data": {
      "application/vnd.jupyter.widget-view+json": {
       "model_id": "2a2ab3559d75476a98d45f291bc5768d",
       "version_major": 2,
       "version_minor": 0
      },
      "text/plain": [
       "  0%|          | 0/528 [00:00<?, ?it/s]"
      ]
     },
     "metadata": {},
     "output_type": "display_data"
    },
    {
     "name": "stdout",
     "output_type": "stream",
     "text": [
      "at iteration 0 resids rmse are  0.3955717296850948\n",
      "1 window size 548\n"
     ]
    },
    {
     "name": "stderr",
     "output_type": "stream",
     "text": [
      "[Parallel(n_jobs=30)]: Using backend LokyBackend with 30 concurrent workers.\n",
      "[Parallel(n_jobs=30)]: Done  12 tasks      | elapsed:    1.8s\n",
      "[Parallel(n_jobs=30)]: Done 102 tasks      | elapsed:    6.9s\n",
      "[Parallel(n_jobs=30)]: Done 228 tasks      | elapsed:   15.5s\n",
      "[Parallel(n_jobs=30)]: Done 390 tasks      | elapsed:   26.7s\n",
      "[Parallel(n_jobs=30)]: Done 528 out of 528 | elapsed:   33.4s finished\n"
     ]
    },
    {
     "data": {
      "application/vnd.jupyter.widget-view+json": {
       "model_id": "c89e2e41598d4b9cb7af0012c8c2344c",
       "version_major": 2,
       "version_minor": 0
      },
      "text/plain": [
       "  0%|          | 0/528 [00:00<?, ?it/s]"
      ]
     },
     "metadata": {},
     "output_type": "display_data"
    },
    {
     "name": "stdout",
     "output_type": "stream",
     "text": [
      "at iteration 1 resids rmse are  0.40061490112664067\n",
      "1 window size 548\n"
     ]
    },
    {
     "name": "stderr",
     "output_type": "stream",
     "text": [
      "[Parallel(n_jobs=30)]: Using backend LokyBackend with 30 concurrent workers.\n",
      "[Parallel(n_jobs=30)]: Done  12 tasks      | elapsed:    1.8s\n",
      "[Parallel(n_jobs=30)]: Done 102 tasks      | elapsed:    6.9s\n",
      "[Parallel(n_jobs=30)]: Done 228 tasks      | elapsed:   15.6s\n",
      "[Parallel(n_jobs=30)]: Done 390 tasks      | elapsed:   26.6s\n",
      "[Parallel(n_jobs=30)]: Done 528 out of 528 | elapsed:   33.5s finished\n"
     ]
    },
    {
     "data": {
      "application/vnd.jupyter.widget-view+json": {
       "model_id": "600a661e9c9d4601b7676dfc5202721d",
       "version_major": 2,
       "version_minor": 0
      },
      "text/plain": [
       "  0%|          | 0/528 [00:00<?, ?it/s]"
      ]
     },
     "metadata": {},
     "output_type": "display_data"
    },
    {
     "name": "stdout",
     "output_type": "stream",
     "text": [
      "at iteration 2 resids rmse are  0.4014996585332739\n"
     ]
    },
    {
     "data": {
      "application/vnd.jupyter.widget-view+json": {
       "model_id": "23acca88c02d43a29b1b0987db532d11",
       "version_major": 2,
       "version_minor": 0
      },
      "text/plain": [
       "  0%|          | 0/45 [00:00<?, ?it/s]"
      ]
     },
     "metadata": {},
     "output_type": "display_data"
    },
    {
     "name": "stdout",
     "output_type": "stream",
     "text": [
      "allowing a mean False\n",
      "shinking lmbda False\n",
      "1 window size 548\n"
     ]
    },
    {
     "name": "stderr",
     "output_type": "stream",
     "text": [
      "[Parallel(n_jobs=30)]: Using backend LokyBackend with 30 concurrent workers.\n",
      "[Parallel(n_jobs=30)]: Done  12 tasks      | elapsed:    1.9s\n",
      "[Parallel(n_jobs=30)]: Done 102 tasks      | elapsed:    6.7s\n",
      "[Parallel(n_jobs=30)]: Done 228 tasks      | elapsed:   15.9s\n",
      "[Parallel(n_jobs=30)]: Done 390 tasks      | elapsed:   27.2s\n",
      "[Parallel(n_jobs=30)]: Done 528 out of 528 | elapsed:   34.4s finished\n"
     ]
    },
    {
     "data": {
      "application/vnd.jupyter.widget-view+json": {
       "model_id": "382a2856c88644bfb9f25fabd1ae3470",
       "version_major": 2,
       "version_minor": 0
      },
      "text/plain": [
       "  0%|          | 0/528 [00:00<?, ?it/s]"
      ]
     },
     "metadata": {},
     "output_type": "display_data"
    },
    {
     "name": "stdout",
     "output_type": "stream",
     "text": [
      "at iteration 0 resids rmse are  0.37852843642393735\n",
      "1 window size 548\n"
     ]
    },
    {
     "name": "stderr",
     "output_type": "stream",
     "text": [
      "[Parallel(n_jobs=30)]: Using backend LokyBackend with 30 concurrent workers.\n",
      "[Parallel(n_jobs=30)]: Done  12 tasks      | elapsed:    1.8s\n",
      "[Parallel(n_jobs=30)]: Done 102 tasks      | elapsed:    7.1s\n",
      "[Parallel(n_jobs=30)]: Done 228 tasks      | elapsed:   16.0s\n",
      "[Parallel(n_jobs=30)]: Done 390 tasks      | elapsed:   27.2s\n",
      "[Parallel(n_jobs=30)]: Done 528 out of 528 | elapsed:   34.3s finished\n"
     ]
    },
    {
     "data": {
      "application/vnd.jupyter.widget-view+json": {
       "model_id": "ff4851a3595d43018f09e8089054d0b4",
       "version_major": 2,
       "version_minor": 0
      },
      "text/plain": [
       "  0%|          | 0/528 [00:00<?, ?it/s]"
      ]
     },
     "metadata": {},
     "output_type": "display_data"
    },
    {
     "name": "stdout",
     "output_type": "stream",
     "text": [
      "at iteration 1 resids rmse are  0.3841106762310444\n",
      "1 window size 548\n"
     ]
    },
    {
     "name": "stderr",
     "output_type": "stream",
     "text": [
      "[Parallel(n_jobs=30)]: Using backend LokyBackend with 30 concurrent workers.\n",
      "[Parallel(n_jobs=30)]: Done  12 tasks      | elapsed:    1.8s\n",
      "[Parallel(n_jobs=30)]: Done 102 tasks      | elapsed:    6.8s\n",
      "[Parallel(n_jobs=30)]: Done 228 tasks      | elapsed:   16.0s\n",
      "[Parallel(n_jobs=30)]: Done 390 tasks      | elapsed:   27.0s\n",
      "[Parallel(n_jobs=30)]: Done 528 out of 528 | elapsed:   34.1s finished\n"
     ]
    },
    {
     "data": {
      "application/vnd.jupyter.widget-view+json": {
       "model_id": "85ce8700eb2344d1b3b211e4607a97be",
       "version_major": 2,
       "version_minor": 0
      },
      "text/plain": [
       "  0%|          | 0/528 [00:00<?, ?it/s]"
      ]
     },
     "metadata": {},
     "output_type": "display_data"
    },
    {
     "name": "stdout",
     "output_type": "stream",
     "text": [
      "at iteration 2 resids rmse are  0.3851332677119452\n"
     ]
    },
    {
     "data": {
      "application/vnd.jupyter.widget-view+json": {
       "model_id": "80a8aeef21af4b7b8286f204566ee451",
       "version_major": 2,
       "version_minor": 0
      },
      "text/plain": [
       "  0%|          | 0/45 [00:00<?, ?it/s]"
      ]
     },
     "metadata": {},
     "output_type": "display_data"
    },
    {
     "name": "stdout",
     "output_type": "stream",
     "text": [
      "allowing a mean False\n",
      "shinking lmbda False\n",
      "1 window size 548\n"
     ]
    },
    {
     "name": "stderr",
     "output_type": "stream",
     "text": [
      "[Parallel(n_jobs=30)]: Using backend LokyBackend with 30 concurrent workers.\n",
      "[Parallel(n_jobs=30)]: Done  12 tasks      | elapsed:    1.9s\n",
      "[Parallel(n_jobs=30)]: Done 102 tasks      | elapsed:    7.2s\n",
      "[Parallel(n_jobs=30)]: Done 228 tasks      | elapsed:   16.8s\n",
      "[Parallel(n_jobs=30)]: Done 390 tasks      | elapsed:   28.9s\n",
      "[Parallel(n_jobs=30)]: Done 528 out of 528 | elapsed:   35.9s finished\n"
     ]
    },
    {
     "data": {
      "application/vnd.jupyter.widget-view+json": {
       "model_id": "75d8065e57dd41019782563db6e706ec",
       "version_major": 2,
       "version_minor": 0
      },
      "text/plain": [
       "  0%|          | 0/528 [00:00<?, ?it/s]"
      ]
     },
     "metadata": {},
     "output_type": "display_data"
    },
    {
     "name": "stdout",
     "output_type": "stream",
     "text": [
      "at iteration 0 resids rmse are  0.3626075470304787\n",
      "1 window size 548\n"
     ]
    },
    {
     "name": "stderr",
     "output_type": "stream",
     "text": [
      "[Parallel(n_jobs=30)]: Using backend LokyBackend with 30 concurrent workers.\n",
      "[Parallel(n_jobs=30)]: Done  12 tasks      | elapsed:    1.9s\n",
      "[Parallel(n_jobs=30)]: Done 102 tasks      | elapsed:    7.2s\n",
      "[Parallel(n_jobs=30)]: Done 228 tasks      | elapsed:   16.4s\n",
      "[Parallel(n_jobs=30)]: Done 390 tasks      | elapsed:   27.9s\n",
      "[Parallel(n_jobs=30)]: Done 528 out of 528 | elapsed:   35.2s finished\n"
     ]
    },
    {
     "data": {
      "application/vnd.jupyter.widget-view+json": {
       "model_id": "8f2b7de176534f69aba3e0a3743f8447",
       "version_major": 2,
       "version_minor": 0
      },
      "text/plain": [
       "  0%|          | 0/528 [00:00<?, ?it/s]"
      ]
     },
     "metadata": {},
     "output_type": "display_data"
    },
    {
     "name": "stdout",
     "output_type": "stream",
     "text": [
      "at iteration 1 resids rmse are  0.3673779135610636\n",
      "1 window size 548\n"
     ]
    },
    {
     "name": "stderr",
     "output_type": "stream",
     "text": [
      "[Parallel(n_jobs=30)]: Using backend LokyBackend with 30 concurrent workers.\n",
      "[Parallel(n_jobs=30)]: Done  12 tasks      | elapsed:    1.8s\n",
      "[Parallel(n_jobs=30)]: Done 102 tasks      | elapsed:    7.0s\n",
      "[Parallel(n_jobs=30)]: Done 228 tasks      | elapsed:   16.5s\n",
      "[Parallel(n_jobs=30)]: Done 390 tasks      | elapsed:   28.1s\n",
      "[Parallel(n_jobs=30)]: Done 528 out of 528 | elapsed:   35.6s finished\n"
     ]
    },
    {
     "data": {
      "application/vnd.jupyter.widget-view+json": {
       "model_id": "8c64e778a75a44768d394fd4fbecea07",
       "version_major": 2,
       "version_minor": 0
      },
      "text/plain": [
       "  0%|          | 0/528 [00:00<?, ?it/s]"
      ]
     },
     "metadata": {},
     "output_type": "display_data"
    },
    {
     "name": "stdout",
     "output_type": "stream",
     "text": [
      "at iteration 2 resids rmse are  0.3678893420174683\n"
     ]
    },
    {
     "data": {
      "application/vnd.jupyter.widget-view+json": {
       "model_id": "9b834d0a0ed94a2095a8415ca6c4a675",
       "version_major": 2,
       "version_minor": 0
      },
      "text/plain": [
       "  0%|          | 0/45 [00:00<?, ?it/s]"
      ]
     },
     "metadata": {},
     "output_type": "display_data"
    },
    {
     "name": "stdout",
     "output_type": "stream",
     "text": [
      "allowing a mean False\n",
      "shinking lmbda False\n",
      "1 window size 548\n"
     ]
    },
    {
     "name": "stderr",
     "output_type": "stream",
     "text": [
      "[Parallel(n_jobs=30)]: Using backend LokyBackend with 30 concurrent workers.\n",
      "[Parallel(n_jobs=30)]: Done  12 tasks      | elapsed:    1.9s\n",
      "[Parallel(n_jobs=30)]: Done 102 tasks      | elapsed:    7.4s\n",
      "[Parallel(n_jobs=30)]: Done 228 tasks      | elapsed:   16.9s\n",
      "[Parallel(n_jobs=30)]: Done 390 tasks      | elapsed:   28.9s\n",
      "[Parallel(n_jobs=30)]: Done 528 out of 528 | elapsed:   36.6s finished\n"
     ]
    },
    {
     "data": {
      "application/vnd.jupyter.widget-view+json": {
       "model_id": "85d6155733174b2790699f3d2307093a",
       "version_major": 2,
       "version_minor": 0
      },
      "text/plain": [
       "  0%|          | 0/528 [00:00<?, ?it/s]"
      ]
     },
     "metadata": {},
     "output_type": "display_data"
    },
    {
     "name": "stdout",
     "output_type": "stream",
     "text": [
      "at iteration 0 resids rmse are  0.3486355499547074\n",
      "1 window size 548\n"
     ]
    },
    {
     "name": "stderr",
     "output_type": "stream",
     "text": [
      "[Parallel(n_jobs=30)]: Using backend LokyBackend with 30 concurrent workers.\n",
      "[Parallel(n_jobs=30)]: Done  12 tasks      | elapsed:    1.9s\n",
      "[Parallel(n_jobs=30)]: Done 102 tasks      | elapsed:    7.3s\n",
      "[Parallel(n_jobs=30)]: Done 228 tasks      | elapsed:   16.9s\n",
      "[Parallel(n_jobs=30)]: Done 390 tasks      | elapsed:   28.8s\n",
      "[Parallel(n_jobs=30)]: Done 528 out of 528 | elapsed:   36.3s finished\n"
     ]
    },
    {
     "data": {
      "application/vnd.jupyter.widget-view+json": {
       "model_id": "191781976dd649fb8124dfeea5b781a9",
       "version_major": 2,
       "version_minor": 0
      },
      "text/plain": [
       "  0%|          | 0/528 [00:00<?, ?it/s]"
      ]
     },
     "metadata": {},
     "output_type": "display_data"
    },
    {
     "name": "stdout",
     "output_type": "stream",
     "text": [
      "at iteration 1 resids rmse are  0.35270510382980536\n",
      "1 window size 548\n"
     ]
    },
    {
     "name": "stderr",
     "output_type": "stream",
     "text": [
      "[Parallel(n_jobs=30)]: Using backend LokyBackend with 30 concurrent workers.\n",
      "[Parallel(n_jobs=30)]: Done  12 tasks      | elapsed:    2.0s\n",
      "[Parallel(n_jobs=30)]: Done 102 tasks      | elapsed:    7.4s\n",
      "[Parallel(n_jobs=30)]: Done 228 tasks      | elapsed:   17.0s\n",
      "[Parallel(n_jobs=30)]: Done 390 tasks      | elapsed:   28.8s\n",
      "[Parallel(n_jobs=30)]: Done 528 out of 528 | elapsed:   36.3s finished\n"
     ]
    },
    {
     "data": {
      "application/vnd.jupyter.widget-view+json": {
       "model_id": "ed43ee4caa024c8c870bb01e17974534",
       "version_major": 2,
       "version_minor": 0
      },
      "text/plain": [
       "  0%|          | 0/528 [00:00<?, ?it/s]"
      ]
     },
     "metadata": {},
     "output_type": "display_data"
    },
    {
     "name": "stdout",
     "output_type": "stream",
     "text": [
      "at iteration 2 resids rmse are  0.35284927099610025\n"
     ]
    },
    {
     "data": {
      "application/vnd.jupyter.widget-view+json": {
       "model_id": "614fc3d464b1456395dcc2e7bfaa3ebc",
       "version_major": 2,
       "version_minor": 0
      },
      "text/plain": [
       "  0%|          | 0/45 [00:00<?, ?it/s]"
      ]
     },
     "metadata": {},
     "output_type": "display_data"
    },
    {
     "name": "stderr",
     "output_type": "stream",
     "text": [
      "IOPub message rate exceeded.\n",
      "The notebook server will temporarily stop sending output\n",
      "to the client in order to avoid crashing it.\n",
      "To change this limit, set the config variable\n",
      "`--NotebookApp.iopub_msg_rate_limit`.\n",
      "\n",
      "Current values:\n",
      "NotebookApp.iopub_msg_rate_limit=1000.0 (msgs/sec)\n",
      "NotebookApp.rate_limit_window=3.0 (secs)\n",
      "\n"
     ]
    },
    {
     "data": {
      "application/vnd.jupyter.widget-view+json": {
       "model_id": "89b50b0392e64c5a92c5d3473c674da7",
       "version_major": 2,
       "version_minor": 0
      },
      "text/plain": [
       "  0%|          | 0/528 [00:00<?, ?it/s]"
      ]
     },
     "metadata": {},
     "output_type": "display_data"
    },
    {
     "name": "stdout",
     "output_type": "stream",
     "text": [
      "at iteration 2 resids rmse are  0.4601688750699022\n"
     ]
    },
    {
     "data": {
      "application/vnd.jupyter.widget-view+json": {
       "model_id": "aa6a6c4e20c14719bf4df1d222a03f96",
       "version_major": 2,
       "version_minor": 0
      },
      "text/plain": [
       "  0%|          | 0/45 [00:00<?, ?it/s]"
      ]
     },
     "metadata": {},
     "output_type": "display_data"
    },
    {
     "name": "stdout",
     "output_type": "stream",
     "text": [
      "allowing a mean False\n",
      "shinking lmbda False\n",
      "1 window size 548\n"
     ]
    },
    {
     "name": "stderr",
     "output_type": "stream",
     "text": [
      "[Parallel(n_jobs=30)]: Using backend LokyBackend with 30 concurrent workers.\n",
      "[Parallel(n_jobs=30)]: Done  12 tasks      | elapsed:    1.3s\n",
      "[Parallel(n_jobs=30)]: Done 102 tasks      | elapsed:    5.6s\n",
      "[Parallel(n_jobs=30)]: Done 228 tasks      | elapsed:   13.2s\n",
      "[Parallel(n_jobs=30)]: Done 390 tasks      | elapsed:   23.2s\n",
      "[Parallel(n_jobs=30)]: Done 528 out of 528 | elapsed:   29.0s finished\n"
     ]
    },
    {
     "data": {
      "application/vnd.jupyter.widget-view+json": {
       "model_id": "9b15a64cb7a645f0b723dda268d83bd4",
       "version_major": 2,
       "version_minor": 0
      },
      "text/plain": [
       "  0%|          | 0/528 [00:00<?, ?it/s]"
      ]
     },
     "metadata": {},
     "output_type": "display_data"
    },
    {
     "name": "stdout",
     "output_type": "stream",
     "text": [
      "at iteration 0 resids rmse are  0.4413027850579313\n",
      "1 window size 548\n"
     ]
    },
    {
     "name": "stderr",
     "output_type": "stream",
     "text": [
      "[Parallel(n_jobs=30)]: Using backend LokyBackend with 30 concurrent workers.\n",
      "[Parallel(n_jobs=30)]: Done  12 tasks      | elapsed:    1.3s\n",
      "[Parallel(n_jobs=30)]: Done 102 tasks      | elapsed:    5.7s\n",
      "[Parallel(n_jobs=30)]: Done 228 tasks      | elapsed:   13.4s\n",
      "[Parallel(n_jobs=30)]: Done 390 tasks      | elapsed:   23.1s\n",
      "[Parallel(n_jobs=30)]: Done 528 out of 528 | elapsed:   29.1s finished\n"
     ]
    },
    {
     "data": {
      "application/vnd.jupyter.widget-view+json": {
       "model_id": "a59a60eb3dc64c47afe1230c5b1c4fce",
       "version_major": 2,
       "version_minor": 0
      },
      "text/plain": [
       "  0%|          | 0/528 [00:00<?, ?it/s]"
      ]
     },
     "metadata": {},
     "output_type": "display_data"
    },
    {
     "name": "stdout",
     "output_type": "stream",
     "text": [
      "at iteration 1 resids rmse are  0.43887623845939117\n",
      "1 window size 548\n"
     ]
    },
    {
     "name": "stderr",
     "output_type": "stream",
     "text": [
      "[Parallel(n_jobs=30)]: Using backend LokyBackend with 30 concurrent workers.\n",
      "[Parallel(n_jobs=30)]: Done  12 tasks      | elapsed:    1.4s\n",
      "[Parallel(n_jobs=30)]: Done 102 tasks      | elapsed:    5.7s\n",
      "[Parallel(n_jobs=30)]: Done 228 tasks      | elapsed:   13.5s\n",
      "[Parallel(n_jobs=30)]: Done 390 tasks      | elapsed:   23.5s\n",
      "[Parallel(n_jobs=30)]: Done 528 out of 528 | elapsed:   29.5s finished\n"
     ]
    },
    {
     "data": {
      "application/vnd.jupyter.widget-view+json": {
       "model_id": "1a85243a816340f49733c8bd9deaa0f9",
       "version_major": 2,
       "version_minor": 0
      },
      "text/plain": [
       "  0%|          | 0/528 [00:00<?, ?it/s]"
      ]
     },
     "metadata": {},
     "output_type": "display_data"
    },
    {
     "name": "stdout",
     "output_type": "stream",
     "text": [
      "at iteration 2 resids rmse are  0.43795419092206805\n"
     ]
    },
    {
     "data": {
      "application/vnd.jupyter.widget-view+json": {
       "model_id": "ede3aa254a634c0cb8bcb8b22f62355c",
       "version_major": 2,
       "version_minor": 0
      },
      "text/plain": [
       "  0%|          | 0/45 [00:00<?, ?it/s]"
      ]
     },
     "metadata": {},
     "output_type": "display_data"
    },
    {
     "name": "stdout",
     "output_type": "stream",
     "text": [
      "allowing a mean False\n",
      "shinking lmbda False\n",
      "1 window size 548\n"
     ]
    },
    {
     "name": "stderr",
     "output_type": "stream",
     "text": [
      "[Parallel(n_jobs=30)]: Using backend LokyBackend with 30 concurrent workers.\n",
      "[Parallel(n_jobs=30)]: Done  12 tasks      | elapsed:    1.4s\n",
      "[Parallel(n_jobs=30)]: Done 102 tasks      | elapsed:    5.8s\n",
      "[Parallel(n_jobs=30)]: Done 228 tasks      | elapsed:   13.9s\n",
      "[Parallel(n_jobs=30)]: Done 390 tasks      | elapsed:   24.4s\n",
      "[Parallel(n_jobs=30)]: Done 528 out of 528 | elapsed:   30.6s finished\n"
     ]
    },
    {
     "data": {
      "application/vnd.jupyter.widget-view+json": {
       "model_id": "4ff56501f84c49b6b393f69025e09fd1",
       "version_major": 2,
       "version_minor": 0
      },
      "text/plain": [
       "  0%|          | 0/528 [00:00<?, ?it/s]"
      ]
     },
     "metadata": {},
     "output_type": "display_data"
    },
    {
     "name": "stdout",
     "output_type": "stream",
     "text": [
      "at iteration 0 resids rmse are  0.4200289397994966\n",
      "1 window size 548\n"
     ]
    },
    {
     "name": "stderr",
     "output_type": "stream",
     "text": [
      "[Parallel(n_jobs=30)]: Using backend LokyBackend with 30 concurrent workers.\n",
      "[Parallel(n_jobs=30)]: Done  12 tasks      | elapsed:    1.3s\n",
      "[Parallel(n_jobs=30)]: Done 102 tasks      | elapsed:    5.9s\n",
      "[Parallel(n_jobs=30)]: Done 228 tasks      | elapsed:   14.0s\n",
      "[Parallel(n_jobs=30)]: Done 390 tasks      | elapsed:   24.3s\n",
      "[Parallel(n_jobs=30)]: Done 528 out of 528 | elapsed:   30.6s finished\n"
     ]
    },
    {
     "data": {
      "application/vnd.jupyter.widget-view+json": {
       "model_id": "ed79842cd9664ac1a6a9d61815c622d3",
       "version_major": 2,
       "version_minor": 0
      },
      "text/plain": [
       "  0%|          | 0/528 [00:00<?, ?it/s]"
      ]
     },
     "metadata": {},
     "output_type": "display_data"
    },
    {
     "name": "stdout",
     "output_type": "stream",
     "text": [
      "at iteration 1 resids rmse are  0.4180239056096527\n",
      "1 window size 548\n"
     ]
    },
    {
     "name": "stderr",
     "output_type": "stream",
     "text": [
      "[Parallel(n_jobs=30)]: Using backend LokyBackend with 30 concurrent workers.\n",
      "[Parallel(n_jobs=30)]: Done  12 tasks      | elapsed:    1.4s\n",
      "[Parallel(n_jobs=30)]: Done 102 tasks      | elapsed:    5.7s\n",
      "[Parallel(n_jobs=30)]: Done 228 tasks      | elapsed:   13.8s\n",
      "[Parallel(n_jobs=30)]: Done 390 tasks      | elapsed:   23.8s\n",
      "[Parallel(n_jobs=30)]: Done 528 out of 528 | elapsed:   30.2s finished\n"
     ]
    },
    {
     "data": {
      "application/vnd.jupyter.widget-view+json": {
       "model_id": "f4fa8046f4204b59ac8ad0187838a4fb",
       "version_major": 2,
       "version_minor": 0
      },
      "text/plain": [
       "  0%|          | 0/528 [00:00<?, ?it/s]"
      ]
     },
     "metadata": {},
     "output_type": "display_data"
    },
    {
     "name": "stdout",
     "output_type": "stream",
     "text": [
      "at iteration 2 resids rmse are  0.417494743654328\n"
     ]
    },
    {
     "data": {
      "application/vnd.jupyter.widget-view+json": {
       "model_id": "200c367fe9ec43ed83f0ea105b9979d6",
       "version_major": 2,
       "version_minor": 0
      },
      "text/plain": [
       "  0%|          | 0/45 [00:00<?, ?it/s]"
      ]
     },
     "metadata": {},
     "output_type": "display_data"
    },
    {
     "name": "stdout",
     "output_type": "stream",
     "text": [
      "allowing a mean False\n",
      "shinking lmbda False\n",
      "1 window size 548\n"
     ]
    },
    {
     "name": "stderr",
     "output_type": "stream",
     "text": [
      "[Parallel(n_jobs=30)]: Using backend LokyBackend with 30 concurrent workers.\n",
      "[Parallel(n_jobs=30)]: Done  12 tasks      | elapsed:    1.4s\n",
      "[Parallel(n_jobs=30)]: Done 102 tasks      | elapsed:    6.0s\n",
      "[Parallel(n_jobs=30)]: Done 228 tasks      | elapsed:   14.3s\n",
      "[Parallel(n_jobs=30)]: Done 390 tasks      | elapsed:   24.4s\n",
      "[Parallel(n_jobs=30)]: Done 528 out of 528 | elapsed:   30.9s finished\n"
     ]
    },
    {
     "data": {
      "application/vnd.jupyter.widget-view+json": {
       "model_id": "7fa215d7a46b4be99df0a01b2724f183",
       "version_major": 2,
       "version_minor": 0
      },
      "text/plain": [
       "  0%|          | 0/528 [00:00<?, ?it/s]"
      ]
     },
     "metadata": {},
     "output_type": "display_data"
    },
    {
     "name": "stdout",
     "output_type": "stream",
     "text": [
      "at iteration 0 resids rmse are  0.39977117395150236\n",
      "1 window size 548\n"
     ]
    },
    {
     "name": "stderr",
     "output_type": "stream",
     "text": [
      "[Parallel(n_jobs=30)]: Using backend LokyBackend with 30 concurrent workers.\n",
      "[Parallel(n_jobs=30)]: Done  12 tasks      | elapsed:    1.4s\n",
      "[Parallel(n_jobs=30)]: Done 102 tasks      | elapsed:    6.0s\n",
      "[Parallel(n_jobs=30)]: Done 228 tasks      | elapsed:   14.2s\n",
      "[Parallel(n_jobs=30)]: Done 390 tasks      | elapsed:   24.4s\n",
      "[Parallel(n_jobs=30)]: Done 528 out of 528 | elapsed:   31.0s finished\n"
     ]
    },
    {
     "data": {
      "application/vnd.jupyter.widget-view+json": {
       "model_id": "f3957b953b0345a2a485850ef76df644",
       "version_major": 2,
       "version_minor": 0
      },
      "text/plain": [
       "  0%|          | 0/528 [00:00<?, ?it/s]"
      ]
     },
     "metadata": {},
     "output_type": "display_data"
    },
    {
     "name": "stdout",
     "output_type": "stream",
     "text": [
      "at iteration 1 resids rmse are  0.39786635042983715\n",
      "1 window size 548\n"
     ]
    },
    {
     "name": "stderr",
     "output_type": "stream",
     "text": [
      "[Parallel(n_jobs=30)]: Using backend LokyBackend with 30 concurrent workers.\n",
      "[Parallel(n_jobs=30)]: Done  12 tasks      | elapsed:    1.4s\n",
      "[Parallel(n_jobs=30)]: Done 102 tasks      | elapsed:    6.0s\n",
      "[Parallel(n_jobs=30)]: Done 228 tasks      | elapsed:   14.3s\n",
      "[Parallel(n_jobs=30)]: Done 390 tasks      | elapsed:   24.6s\n",
      "[Parallel(n_jobs=30)]: Done 528 out of 528 | elapsed:   30.9s finished\n"
     ]
    },
    {
     "data": {
      "application/vnd.jupyter.widget-view+json": {
       "model_id": "4121a014fc274c9eba10eae5bc82828d",
       "version_major": 2,
       "version_minor": 0
      },
      "text/plain": [
       "  0%|          | 0/528 [00:00<?, ?it/s]"
      ]
     },
     "metadata": {},
     "output_type": "display_data"
    },
    {
     "name": "stdout",
     "output_type": "stream",
     "text": [
      "at iteration 2 resids rmse are  0.3974037422579605\n"
     ]
    },
    {
     "data": {
      "application/vnd.jupyter.widget-view+json": {
       "model_id": "a2190cf630af43d6b9bf85b3aaa95e78",
       "version_major": 2,
       "version_minor": 0
      },
      "text/plain": [
       "  0%|          | 0/45 [00:00<?, ?it/s]"
      ]
     },
     "metadata": {},
     "output_type": "display_data"
    },
    {
     "name": "stderr",
     "output_type": "stream",
     "text": [
      "IOPub message rate exceeded.\n",
      "The notebook server will temporarily stop sending output\n",
      "to the client in order to avoid crashing it.\n",
      "To change this limit, set the config variable\n",
      "`--NotebookApp.iopub_msg_rate_limit`.\n",
      "\n",
      "Current values:\n",
      "NotebookApp.iopub_msg_rate_limit=1000.0 (msgs/sec)\n",
      "NotebookApp.rate_limit_window=3.0 (secs)\n",
      "\n"
     ]
    }
   ],
   "source": [
    "importlib.reload(imputation_model)\n",
    "importlib.reload(plot_base)\n",
    "\n",
    "importlib.reload(appendix)\n",
    "char_map = {x[0]:x[1] for x in char_groupings}\n",
    "plot5 = appendix.NormalizationType()\n",
    "plot5.setup(return_panel, chars, char_map, char_groupings, percentile_rank_chars, regular_chars)\n",
    "for x in plot5.data_string:\n",
    "    if type(x) is str:\n",
    "        print(x)\n",
    "    else:\n",
    "        print(*x)"
   ]
  },
  {
   "cell_type": "code",
   "execution_count": 36,
   "id": "beace9c9",
   "metadata": {
    "scrolled": false
   },
   "outputs": [
    {
     "name": "stdout",
     "output_type": "stream",
     "text": [
      "normed chars local xs oos\n",
      "   aggregate quarterly monthly\n",
      "out of sample 10 & 0.920 & 0.926 & 0.913 \\\\\n",
      "out of sample 11 & 0.919 & 0.925 & 0.911 \\\\\n",
      "out of sample 12 & 0.917 & 0.923 & 0.908 \\\\\n",
      "out of sample 13 & 0.916 & 0.922 & 0.907 \\\\\n",
      "out of sample 14 & 0.916 & 0.922 & 0.908 \\\\\n",
      "out of sample 15 & 0.916 & 0.922 & 0.908 \\\\\n",
      "out of sample 16 & 0.914 & 0.920 & 0.906 \\\\\n",
      "out of sample 17 & 0.914 & 0.921 & 0.905 \\\\\n",
      "out of sample 18 & 0.913 & 0.919 & 0.904 \\\\\n",
      "out of sample 19 & 0.912 & 0.918 & 0.903 \\\\\n",
      "out of sample 20 & 0.912 & 0.919 & 0.903 \\\\\n",
      "normed chars gloabl xs oos\n",
      "   aggregate quarterly monthly\n",
      "out of sample 10 & 0.919 & 0.924 & 0.911 \\\\\n",
      "out of sample 11 & 0.916 & 0.922 & 0.909 \\\\\n",
      "out of sample 12 & 0.914 & 0.921 & 0.905 \\\\\n",
      "out of sample 13 & 0.914 & 0.920 & 0.904 \\\\\n",
      "out of sample 14 & 0.913 & 0.919 & 0.903 \\\\\n",
      "out of sample 15 & 0.913 & 0.919 & 0.904 \\\\\n",
      "out of sample 16 & 0.913 & 0.919 & 0.906 \\\\\n",
      "out of sample 17 & 0.912 & 0.919 & 0.904 \\\\\n",
      "out of sample 18 & 0.913 & 0.919 & 0.904 \\\\\n",
      "out of sample 19 & 0.913 & 0.919 & 0.904 \\\\\n",
      "out of sample 20 & 0.912 & 0.919 & 0.903 \\\\\n",
      "kernel transformation chars local xs oos\n",
      "   aggregate quarterly monthly\n",
      "out of sample 10 & 0.796 & 0.772 & 0.832 \\\\\n",
      "out of sample 11 & 0.791 & 0.767 & 0.829 \\\\\n",
      "out of sample 12 & 0.788 & 0.764 & 0.825 \\\\\n",
      "out of sample 13 & 0.786 & 0.763 & 0.821 \\\\\n",
      "out of sample 14 & 0.786 & 0.763 & 0.820 \\\\\n",
      "out of sample 15 & 0.786 & 0.764 & 0.819 \\\\\n",
      "out of sample 16 & 0.783 & 0.760 & 0.819 \\\\\n",
      "out of sample 17 & 0.785 & 0.761 & 0.820 \\\\\n",
      "out of sample 18 & 0.785 & 0.761 & 0.821 \\\\\n",
      "out of sample 19 & 0.785 & 0.762 & 0.820 \\\\\n",
      "out of sample 20 & 0.784 & 0.761 & 0.819 \\\\\n",
      "kernel transformation chars gloabl xs oos\n",
      "   aggregate quarterly monthly\n",
      "out of sample 10 & 0.793 & 0.768 & 0.831 \\\\\n",
      "out of sample 11 & 0.789 & 0.763 & 0.828 \\\\\n",
      "out of sample 12 & 0.786 & 0.761 & 0.825 \\\\\n",
      "out of sample 13 & 0.784 & 0.760 & 0.820 \\\\\n",
      "out of sample 14 & 0.784 & 0.759 & 0.821 \\\\\n",
      "out of sample 15 & 0.784 & 0.761 & 0.820 \\\\\n",
      "out of sample 16 & 0.785 & 0.761 & 0.823 \\\\\n",
      "out of sample 17 & 0.789 & 0.765 & 0.826 \\\\\n",
      "out of sample 18 & 0.790 & 0.765 & 0.828 \\\\\n",
      "out of sample 19 & 0.792 & 0.768 & 0.828 \\\\\n",
      "out of sample 20 & 0.790 & 0.765 & 0.827 \\\\\n",
      "local xs oos\n",
      "   aggregate quarterly monthly\n",
      "out of sample 10 & 0.690 & 0.656 & 0.744 \\\\\n"
     ]
    }
   ],
   "source": [
    "for x in plot5.data_string:\n",
    "    if type(x) is str:\n",
    "        print(x)\n",
    "    else:\n",
    "        print(*x)"
   ]
  },
  {
   "cell_type": "code",
   "execution_count": null,
   "id": "76e5d4e6",
   "metadata": {},
   "outputs": [],
   "source": []
  },
  {
   "cell_type": "code",
   "execution_count": null,
   "id": "74343654",
   "metadata": {},
   "outputs": [],
   "source": [
    "2"
   ]
  },
  {
   "cell_type": "code",
   "execution_count": null,
   "id": "17602c14",
   "metadata": {},
   "outputs": [],
   "source": []
  },
  {
   "cell_type": "code",
   "execution_count": 33,
   "id": "a1206f9c",
   "metadata": {},
   "outputs": [],
   "source": [
    "tmp = pd.read_csv('../data/current/martin_imputation_examples/imputations/best_imputation_no_lookahead.csv')"
   ]
  },
  {
   "cell_type": "code",
   "execution_count": 35,
   "id": "92edb227",
   "metadata": {},
   "outputs": [
    {
     "data": {
      "text/plain": [
       "date              0\n",
       "permno            0\n",
       "A2ME              0\n",
       "AC                0\n",
       "AT                0\n",
       "ATO               0\n",
       "B2M               0\n",
       "BETA_d            0\n",
       "BETA_m            0\n",
       "C2A               0\n",
       "CF2B              0\n",
       "CF2P              0\n",
       "CTO               0\n",
       "D2A               0\n",
       "D2P               0\n",
       "DPI2A             0\n",
       "E2P               0\n",
       "FC2Y              0\n",
       "HIGH52            0\n",
       "INV               0\n",
       "IdioVol           0\n",
       "LEV               0\n",
       "ME                0\n",
       "NI                0\n",
       "NOA               0\n",
       "OA                0\n",
       "OL                0\n",
       "OP                0\n",
       "PCM               0\n",
       "PM                0\n",
       "PROF              0\n",
       "Q                 0\n",
       "R12_2             0\n",
       "R12_7             0\n",
       "R2_1              0\n",
       "R36_13            0\n",
       "R60_13            0\n",
       "RNA               0\n",
       "ROA               0\n",
       "ROE               0\n",
       "RVAR              0\n",
       "S2P               0\n",
       "SGA2S             0\n",
       "SPREAD            0\n",
       "SUV               0\n",
       "TURN              0\n",
       "VAR               0\n",
       "return            0\n",
       "monthly_update    0\n",
       "dtype: int64"
      ]
     },
     "execution_count": 35,
     "metadata": {},
     "output_type": "execute_result"
    }
   ],
   "source": [
    "np.sum(tmp.isna())"
   ]
  },
  {
   "cell_type": "code",
   "execution_count": 36,
   "id": "2b82b6b5",
   "metadata": {},
   "outputs": [],
   "source": [
    "del tmp"
   ]
  },
  {
   "cell_type": "code",
   "execution_count": 140,
   "id": "2792affb",
   "metadata": {},
   "outputs": [],
   "source": [
    "data = imputation_utils.load_imputation(\"local_bw_out_of_sample_block\")"
   ]
  },
  {
   "cell_type": "code",
   "execution_count": 141,
   "id": "929065b4",
   "metadata": {},
   "outputs": [
    {
     "data": {
      "text/plain": [
       "23040"
      ]
     },
     "execution_count": 141,
     "metadata": {},
     "output_type": "execute_result"
    }
   ],
   "source": [
    "np.sum(data[:,permnos == 10000] == 0)"
   ]
  },
  {
   "cell_type": "code",
   "execution_count": 142,
   "id": "722d3707",
   "metadata": {},
   "outputs": [],
   "source": [
    "del data"
   ]
  },
  {
   "cell_type": "code",
   "execution_count": null,
   "id": "78918b53",
   "metadata": {},
   "outputs": [],
   "source": []
  }
 ],
 "metadata": {
  "kernelspec": {
   "display_name": "Python-Sven-Base",
   "language": "python",
   "name": "base"
  },
  "language_info": {
   "codemirror_mode": {
    "name": "ipython",
    "version": 3
   },
   "file_extension": ".py",
   "mimetype": "text/x-python",
   "name": "python",
   "nbconvert_exporter": "python",
   "pygments_lexer": "ipython3",
   "version": "3.10.12"
  }
 },
 "nbformat": 4,
 "nbformat_minor": 5
}
