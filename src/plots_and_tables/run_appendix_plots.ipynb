{
 "cells": [
  {
   "cell_type": "code",
   "execution_count": 1,
   "id": "6663e974",
   "metadata": {},
   "outputs": [],
   "source": [
    "import os\n",
    "import numpy as np\n",
    "import shutup; shutup.please()\n",
    "import warnings\n",
    "warnings.filterwarnings(\"ignore\", category=RuntimeWarning) \n",
    "warnings.filterwarnings(\"ignore\") \n",
    "\n",
    "os.chdir('/home/svenl/repos/research/pelger/missing_data_pub/src/')\n",
    "\n",
    "data = np.load('../data/raw_rank_trunk_chars.npz')\n",
    "percentile_rank_chars = data['rank_chars']\n",
    "regular_chars = data['raw_chars']\n",
    "chars = data['chars']\n",
    "dates = data['dates']\n",
    "return_panel = data['returns']\n",
    "permnos = data['permnos']\n",
    "rts = data['rfs']\n",
    "monthly_updates = data['monthly_updates']"
   ]
  },
  {
   "cell_type": "code",
   "execution_count": 2,
   "id": "3f4cc7d6",
   "metadata": {},
   "outputs": [],
   "source": [
    "from plots_and_tables import appendix, section_2, section_4, section_5, section_6"
   ]
  },
  {
   "cell_type": "code",
   "execution_count": 3,
   "id": "c8535451",
   "metadata": {},
   "outputs": [],
   "source": [
    "char_groupings  = [('A2ME', \"Q\"),\n",
    "                   ('AC', 'Q'),\n",
    "('AT', 'Q'),\n",
    "('ATO', 'Q'),\n",
    "('B2M', 'QM'),\n",
    "('BETA_d', 'M'),\n",
    "('BETA_m', 'M'),\n",
    "('C2A', 'Q'),\n",
    "('CF2B', 'Q'),\n",
    "('CF2P', 'QM'),\n",
    "('CTO', 'Q'),\n",
    "('D2A', 'Q'),\n",
    "('D2P', 'M'),\n",
    "('DPI2A', 'Q'),\n",
    "('E2P', 'QM'),\n",
    "('FC2Y', 'QY'),\n",
    "('IdioVol', 'M'),\n",
    "('INV', 'Q'),\n",
    "('LEV', 'Q'),\n",
    "('ME', 'M'),\n",
    "('TURN', 'M'),\n",
    "('NI', 'Q'),\n",
    "('NOA', 'Q'),\n",
    "('OA', 'Q'),\n",
    "('OL', 'Q'),\n",
    "('OP', 'Q'),\n",
    "('PCM', 'Q'),\n",
    "('PM', 'Q'),\n",
    "('PROF', 'QY'),\n",
    "('Q', 'QM'),\n",
    "('R2_1', 'M'),\n",
    "('R12_2', 'M'),\n",
    "('R12_7', 'M'),\n",
    "('R36_13', 'M'),\n",
    "('R60_13', 'M'),\n",
    "('HIGH52', 'M'),\n",
    "('RVAR', 'M'),\n",
    "('RNA', 'Q'),\n",
    "('ROA', 'Q'),\n",
    "('ROE', 'Q'),\n",
    "('S2P', 'QM'),\n",
    "('SGA2S', 'Q'),\n",
    "('SPREAD', 'M'),\n",
    "('SUV', 'M'),\n",
    "('VAR', 'M')]\n",
    "char_map = {x[0]:x[1] for x in char_groupings}"
   ]
  },
  {
   "cell_type": "markdown",
   "id": "f20e34e0",
   "metadata": {},
   "source": [
    "# Appendix"
   ]
  },
  {
   "cell_type": "markdown",
   "id": "558ab55e",
   "metadata": {},
   "source": [
    "## Table A.1: Imputation Error for Alternative Implementations\n"
   ]
  },
  {
   "cell_type": "code",
   "execution_count": 4,
   "id": "34285682",
   "metadata": {},
   "outputs": [
    {
     "data": {
      "text/plain": [
       "<module 'plots_and_tables.appendix' from '/home/svenl/repos/research/pelger/missing_data_pub/src/plots_and_tables/appendix.py'>"
      ]
     },
     "execution_count": 4,
     "metadata": {},
     "output_type": "execute_result"
    }
   ],
   "source": [
    "import importlib\n",
    "importlib.reload(appendix)"
   ]
  },
  {
   "cell_type": "code",
   "execution_count": 5,
   "id": "4fd1e2ef",
   "metadata": {},
   "outputs": [
    {
     "name": "stdout",
     "output_type": "stream",
     "text": [
      "(22351, 45)\n",
      "(22351, 45)\n",
      "(22351, 45)\n"
     ]
    }
   ],
   "source": [
    "result = appendix.ComparisonOfModelConfigs()\n",
    "result.setup(percentile_rank_chars, return_panel, char_groupings, chars,\n",
    "        regular_chars, permnos, dates, monthly_updates, char_map)"
   ]
  },
  {
   "cell_type": "markdown",
   "id": "72ddcea3",
   "metadata": {},
   "source": [
    "## Simulations"
   ]
  },
  {
   "cell_type": "markdown",
   "id": "d03dfc9f",
   "metadata": {},
   "source": [
    "### Figure A.1: Errors with Missing-Completely-at-Random"
   ]
  },
  {
   "cell_type": "code",
   "execution_count": 14,
   "id": "dcc82cea",
   "metadata": {},
   "outputs": [
    {
     "data": {
      "text/plain": [
       "<module 'plots_and_tables.appendix' from '/home/svenl/repos/research/pelger/missing_data_pub/src/plots_and_tables/appendix.py'>"
      ]
     },
     "execution_count": 14,
     "metadata": {},
     "output_type": "execute_result"
    }
   ],
   "source": [
    "import importlib\n",
    "importlib.reload(appendix)"
   ]
  },
  {
   "cell_type": "code",
   "execution_count": null,
   "id": "47d382ed",
   "metadata": {},
   "outputs": [
    {
     "data": {
      "image/png": "[encoded data removed]",
      "text/plain": [
       "<Figure size 432x288 with 1 Axes>"
      ]
     },
     "metadata": {
      "needs_background": "light"
     },
     "output_type": "display_data"
    },
    {
     "data": {
      "image/png": "[encoded data removed]",
      "text/plain": [
       "<Figure size 432x288 with 1 Axes>"
      ]
     },
     "metadata": {
      "needs_background": "light"
     },
     "output_type": "display_data"
    }
   ],
   "source": [
    "plot = appendix.Simulation()\n",
    "plot.run('MAR')"
   ]
  },
  {
   "cell_type": "markdown",
   "id": "d0df289a",
   "metadata": {},
   "source": [
    "### Figure A.2: Imputation Errors with Missing-Conditionally-at-Random"
   ]
  },
  {
   "cell_type": "code",
   "execution_count": null,
   "id": "9601930f",
   "metadata": {},
   "outputs": [],
   "source": [
    "plot = appendix.Simulation()\n",
    "plot.run('Lmbda')"
   ]
  },
  {
   "cell_type": "markdown",
   "id": "c17aad2e",
   "metadata": {},
   "source": [
    "## Table C.2: Missing by Characteristic Quintiles\n"
   ]
  },
  {
   "cell_type": "code",
   "execution_count": null,
   "id": "e1f1fe42",
   "metadata": {},
   "outputs": [],
   "source": [
    "plot = section_2.MssingByQuintile()\n",
    "plot.setup(percentile_rank_chars, return_panel, dates, permnos, chars, char_groupings, monthly_updates)\n",
    "display(plot.data_df)\n",
    "plot.run()"
   ]
  },
  {
   "cell_type": "markdown",
   "id": "6001e60a",
   "metadata": {},
   "source": [
    "## Table C.3: Lengths of Missing Blocks"
   ]
  },
  {
   "cell_type": "code",
   "execution_count": null,
   "id": "0e1667fb",
   "metadata": {},
   "outputs": [],
   "source": [
    "plot = section_2.MssingBlockLengths()\n",
    "plot.setup(percentile_rank_chars, return_panel, dates, permnos, chars, char_groupings, monthly_updates)\n",
    "display(plot.data_df)\n",
    "plot.run()"
   ]
  },
  {
   "cell_type": "markdown",
   "id": "6004afea",
   "metadata": {},
   "source": [
    "## Figure D.1: Missing Observations over Time By Characteristics"
   ]
  },
  {
   "cell_type": "code",
   "execution_count": null,
   "id": "9500a0c5",
   "metadata": {},
   "outputs": [],
   "source": [
    "# martin"
   ]
  },
  {
   "cell_type": "markdown",
   "id": "57da1b37",
   "metadata": {},
   "source": [
    "## Figure D.2: Missing Observations by Characteristic Pooled by Stocks"
   ]
  },
  {
   "cell_type": "code",
   "execution_count": null,
   "id": "740325f8",
   "metadata": {},
   "outputs": [],
   "source": [
    "# martin"
   ]
  },
  {
   "cell_type": "markdown",
   "id": "24758a94",
   "metadata": {},
   "source": [
    "## Figure D.3: Heatmap of Pairwise Correlation from 1967–1976 "
   ]
  },
  {
   "cell_type": "code",
   "execution_count": null,
   "id": "b0ab2d66",
   "metadata": {},
   "outputs": [],
   "source": [
    "# martin"
   ]
  },
  {
   "cell_type": "markdown",
   "id": "e94e566a",
   "metadata": {},
   "source": [
    "## Figure D.4: Standard Deviation of Characteristic Ranks"
   ]
  },
  {
   "cell_type": "code",
   "execution_count": null,
   "id": "84ef1c44",
   "metadata": {},
   "outputs": [],
   "source": [
    "# martin"
   ]
  },
  {
   "cell_type": "markdown",
   "id": "c441fb1e",
   "metadata": {},
   "source": [
    "## Figure D.5: Generalized Correlation of Global and Local Factor Weights"
   ]
  },
  {
   "cell_type": "code",
   "execution_count": null,
   "id": "f3fc60bd",
   "metadata": {},
   "outputs": [],
   "source": [
    "plot = section_4.GenCorr()\n",
    "plot.setup(percentile_rank_chars, return_panel, dates)\n",
    "plot.run()"
   ]
  },
  {
   "cell_type": "markdown",
   "id": "56f63097",
   "metadata": {},
   "source": [
    "## Figure D.6: Composition of Proxy Factors by Characteristic Categories"
   ]
  },
  {
   "cell_type": "code",
   "execution_count": null,
   "id": "d92c8d69",
   "metadata": {},
   "outputs": [],
   "source": [
    "result = appendix.SparseFactors()\n",
    "result.setup(percentile_rank_chars, return_panel, char_groupings, chars,\n",
    "        regular_chars, permnos, dates)"
   ]
  },
  {
   "cell_type": "markdown",
   "id": "a92ddae9",
   "metadata": {},
   "source": [
    "## Figure D.8: Global and Local Imputation for Individual Characteristics"
   ]
  },
  {
   "cell_type": "code",
   "execution_count": null,
   "id": "0ce1c813",
   "metadata": {},
   "outputs": [],
   "source": [
    "import importlib\n",
    "importlib.reload(section_5)"
   ]
  },
  {
   "cell_type": "code",
   "execution_count": null,
   "id": "7e92e649",
   "metadata": {},
   "outputs": [],
   "source": [
    "plot = section_5.ImputationErrorPlots()\n",
    "plot.setup(percentile_rank_chars, chars, monthly_updates, dates)\n",
    "plot.run()"
   ]
  },
  {
   "cell_type": "markdown",
   "id": "ef87f5e6",
   "metadata": {},
   "source": [
    "## Figure D.9: Top and Bottom Deciles with and without Missing Values"
   ]
  },
  {
   "cell_type": "code",
   "execution_count": null,
   "id": "c474770f",
   "metadata": {},
   "outputs": [],
   "source": [
    "char_groupings = {\n",
    "    \"Past Returns\" : ['R2_1', 'R12_2', 'R12_7', 'R36_13', 'R60_13', 'HIGH52'],\n",
    "    \"Investment\": ['INV', 'NOA', 'DPI2A', 'NI'],\n",
    "    \"Profitability\": ['PROF', 'ATO', 'CTO', 'FC2Y', 'OP', 'PM', 'RNA', 'ROA', 'ROE', 'SGA2S', \n",
    "                     'D2A'],\n",
    "    \"Intangibles\": ['AC', 'OA', 'OL', 'PCM'],\n",
    "    \"Value\": ['A2ME', 'B2M',  'C2A', 'CF2B', 'CF2P', 'D2P', 'E2P', 'Q',  'S2P'],\n",
    "    \"Trading Frictions\": ['BETA_d', 'BETA_m', 'SPREAD'],\n",
    "    \"Other\": ['AT', 'LEV', 'IdioVol', 'ME', 'TURN', 'RVAR', 'SUV', 'VAR']\n",
    "}\n",
    "import numpy as np\n",
    "size_ind = np.argwhere(chars == 'ME')[0][0]\n",
    "plot = section_6.UnivariateBarDiffs()\n",
    "plot.setup(percentile_rank_chars, chars, return_panel, char_groupings,\n",
    "        regular_chars, dates, permnos)\n",
    "plot.run()"
   ]
  },
  {
   "cell_type": "markdown",
   "id": "8062fc1f",
   "metadata": {},
   "source": [
    "## Figure D.10: Sharpe Ratios with Non-parametric IPCA Factors"
   ]
  },
  {
   "cell_type": "code",
   "execution_count": null,
   "id": "b34f785f",
   "metadata": {},
   "outputs": [],
   "source": [
    "result = appendix.NonlinearIPCA()\n",
    "result.setup(percentile_rank_chars, return_panel,\n",
    "             char_groupings, chars, \n",
    "             np.array(rts), expansion_dim=10)"
   ]
  }
 ],
 "metadata": {
  "kernelspec": {
   "display_name": "Python-Sven-Base",
   "language": "python",
   "name": "base"
  },
  "language_info": {
   "codemirror_mode": {
    "name": "ipython",
    "version": 3
   },
   "file_extension": ".py",
   "mimetype": "text/x-python",
   "name": "python",
   "nbconvert_exporter": "python",
   "pygments_lexer": "ipython3",
   "version": "3.10.12"
  }
 },
 "nbformat": 4,
 "nbformat_minor": 5
}
